{
 "cells": [
  {
   "cell_type": "markdown",
   "id": "e7ca28e3",
   "metadata": {},
   "source": [
    "AI POWERED TASK MANAGEMENT"
   ]
  },
  {
   "cell_type": "code",
   "execution_count": 36,
   "id": "ee4f0bcb",
   "metadata": {},
   "outputs": [],
   "source": [
    "import pandas as pd\n",
    "import numpy as np\n",
    "import matplotlib.pyplot as plt\n",
    "import nltk\n",
    "from nltk.corpus import stopwords\n",
    "from nltk.stem import WordNetLemmatizer\n",
    "import re\n",
    "import string"
   ]
  },
  {
   "cell_type": "code",
   "execution_count": 37,
   "id": "6d0ddbc4",
   "metadata": {},
   "outputs": [
    {
     "name": "stderr",
     "output_type": "stream",
     "text": [
      "[nltk_data] Downloading package stopwords to\n",
      "[nltk_data]     C:\\Users\\rahul\\AppData\\Roaming\\nltk_data...\n",
      "[nltk_data]   Package stopwords is already up-to-date!\n",
      "[nltk_data] Downloading package punkt to\n",
      "[nltk_data]     C:\\Users\\rahul\\AppData\\Roaming\\nltk_data...\n",
      "[nltk_data]   Package punkt is already up-to-date!\n",
      "[nltk_data] Downloading package punkt_tab to\n",
      "[nltk_data]     C:\\Users\\rahul\\AppData\\Roaming\\nltk_data...\n",
      "[nltk_data]   Package punkt_tab is already up-to-date!\n",
      "[nltk_data] Downloading package wordnet to\n",
      "[nltk_data]     C:\\Users\\rahul\\AppData\\Roaming\\nltk_data...\n",
      "[nltk_data]   Package wordnet is already up-to-date!\n"
     ]
    },
    {
     "data": {
      "text/plain": [
       "True"
      ]
     },
     "execution_count": 37,
     "metadata": {},
     "output_type": "execute_result"
    }
   ],
   "source": [
    "# Download NLTK assets (only run once). Comment the code after running\n",
    "nltk.download('stopwords')\n",
    "nltk.download('punkt')\n",
    "nltk.download('punkt_tab')\n",
    "nltk.download('wordnet')"
   ]
  },
  {
   "cell_type": "code",
   "execution_count": 38,
   "id": "a150bf22",
   "metadata": {},
   "outputs": [
    {
     "data": {
      "text/html": [
       "<div>\n",
       "<style scoped>\n",
       "    .dataframe tbody tr th:only-of-type {\n",
       "        vertical-align: middle;\n",
       "    }\n",
       "\n",
       "    .dataframe tbody tr th {\n",
       "        vertical-align: top;\n",
       "    }\n",
       "\n",
       "    .dataframe thead th {\n",
       "        text-align: right;\n",
       "    }\n",
       "</style>\n",
       "<table border=\"1\" class=\"dataframe\">\n",
       "  <thead>\n",
       "    <tr style=\"text-align: right;\">\n",
       "      <th></th>\n",
       "      <th>task_description</th>\n",
       "      <th>creation_date</th>\n",
       "      <th>due_date</th>\n",
       "      <th>priority</th>\n",
       "      <th>task_category</th>\n",
       "      <th>assigned_to</th>\n",
       "      <th>estimated_effort_hours</th>\n",
       "      <th>user_preferred_categories</th>\n",
       "      <th>user_current_workload</th>\n",
       "    </tr>\n",
       "    <tr>\n",
       "      <th>task_id</th>\n",
       "      <th></th>\n",
       "      <th></th>\n",
       "      <th></th>\n",
       "      <th></th>\n",
       "      <th></th>\n",
       "      <th></th>\n",
       "      <th></th>\n",
       "      <th></th>\n",
       "      <th></th>\n",
       "    </tr>\n",
       "  </thead>\n",
       "  <tbody>\n",
       "    <tr>\n",
       "      <th>1</th>\n",
       "      <td>Explore trends in tech.</td>\n",
       "      <td>2025-06-04</td>\n",
       "      <td>NaN</td>\n",
       "      <td>Medium</td>\n",
       "      <td>Research</td>\n",
       "      <td>Isaac</td>\n",
       "      <td>9</td>\n",
       "      <td>Marketing, HR</td>\n",
       "      <td>2</td>\n",
       "    </tr>\n",
       "    <tr>\n",
       "      <th>2</th>\n",
       "      <td>Research Vision methods.</td>\n",
       "      <td>2025-05-19</td>\n",
       "      <td>2025-06-12</td>\n",
       "      <td>Low</td>\n",
       "      <td>Research</td>\n",
       "      <td>Chloe</td>\n",
       "      <td>7</td>\n",
       "      <td>Research, Support</td>\n",
       "      <td>7</td>\n",
       "    </tr>\n",
       "    <tr>\n",
       "      <th>3</th>\n",
       "      <td>Analyze QQ4 campaign data.</td>\n",
       "      <td>2025-02-28</td>\n",
       "      <td>2025-03-30</td>\n",
       "      <td>High</td>\n",
       "      <td>Marketing</td>\n",
       "      <td>Grace</td>\n",
       "      <td>8</td>\n",
       "      <td>Marketing</td>\n",
       "      <td>0</td>\n",
       "    </tr>\n",
       "    <tr>\n",
       "      <th>4</th>\n",
       "      <td>Deploy v1.7 to production.</td>\n",
       "      <td>2025-03-19</td>\n",
       "      <td>2025-04-15</td>\n",
       "      <td>Medium</td>\n",
       "      <td>Development</td>\n",
       "      <td>David</td>\n",
       "      <td>2</td>\n",
       "      <td>Development</td>\n",
       "      <td>6</td>\n",
       "    </tr>\n",
       "    <tr>\n",
       "      <th>5</th>\n",
       "      <td>Schedule meeting with CTO.</td>\n",
       "      <td>2025-02-19</td>\n",
       "      <td>2025-03-17</td>\n",
       "      <td>High</td>\n",
       "      <td>Admin</td>\n",
       "      <td>Ivy</td>\n",
       "      <td>5</td>\n",
       "      <td>Admin</td>\n",
       "      <td>4</td>\n",
       "    </tr>\n",
       "  </tbody>\n",
       "</table>\n",
       "</div>"
      ],
      "text/plain": [
       "                   task_description creation_date    due_date priority  \\\n",
       "task_id                                                                  \n",
       "1           Explore trends in tech.    2025-06-04         NaN   Medium   \n",
       "2          Research Vision methods.    2025-05-19  2025-06-12      Low   \n",
       "3        Analyze QQ4 campaign data.    2025-02-28  2025-03-30     High   \n",
       "4        Deploy v1.7 to production.    2025-03-19  2025-04-15   Medium   \n",
       "5        Schedule meeting with CTO.    2025-02-19  2025-03-17     High   \n",
       "\n",
       "        task_category assigned_to  estimated_effort_hours  \\\n",
       "task_id                                                     \n",
       "1            Research       Isaac                       9   \n",
       "2            Research       Chloe                       7   \n",
       "3           Marketing       Grace                       8   \n",
       "4         Development       David                       2   \n",
       "5               Admin         Ivy                       5   \n",
       "\n",
       "        user_preferred_categories  user_current_workload  \n",
       "task_id                                                   \n",
       "1                   Marketing, HR                      2  \n",
       "2               Research, Support                      7  \n",
       "3                       Marketing                      0  \n",
       "4                     Development                      6  \n",
       "5                           Admin                      4  "
      ]
     },
     "execution_count": 38,
     "metadata": {},
     "output_type": "execute_result"
    }
   ],
   "source": [
    "df = pd.read_csv(\"synthetic_task_dataset_realistic.csv\",index_col=0)\n",
    "df.head()"
   ]
  },
  {
   "cell_type": "markdown",
   "id": "793d20b4",
   "metadata": {},
   "source": [
    "EDA"
   ]
  },
  {
   "cell_type": "code",
   "execution_count": 39,
   "id": "6a90ca7c",
   "metadata": {},
   "outputs": [
    {
     "data": {
      "text/plain": [
       "Index(['task_description', 'creation_date', 'due_date', 'priority',\n",
       "       'task_category', 'assigned_to', 'estimated_effort_hours',\n",
       "       'user_preferred_categories', 'user_current_workload'],\n",
       "      dtype='object')"
      ]
     },
     "execution_count": 39,
     "metadata": {},
     "output_type": "execute_result"
    }
   ],
   "source": [
    "df.columns"
   ]
  },
  {
   "cell_type": "code",
   "execution_count": 40,
   "id": "afde714b",
   "metadata": {},
   "outputs": [
    {
     "data": {
      "text/plain": [
       "task_description             object\n",
       "creation_date                object\n",
       "due_date                     object\n",
       "priority                     object\n",
       "task_category                object\n",
       "assigned_to                  object\n",
       "estimated_effort_hours        int64\n",
       "user_preferred_categories    object\n",
       "user_current_workload         int64\n",
       "dtype: object"
      ]
     },
     "execution_count": 40,
     "metadata": {},
     "output_type": "execute_result"
    }
   ],
   "source": [
    "df.dtypes"
   ]
  },
  {
   "cell_type": "code",
   "execution_count": 41,
   "id": "15c80083",
   "metadata": {},
   "outputs": [],
   "source": [
    "df['creation_date'] = pd.to_datetime(df['creation_date'])\n",
    "df['due_date'] = pd.to_datetime(df['due_date'])"
   ]
  },
  {
   "cell_type": "code",
   "execution_count": 42,
   "id": "2fa38e3e",
   "metadata": {},
   "outputs": [
    {
     "data": {
      "text/plain": [
       "task_description               0\n",
       "creation_date                  0\n",
       "due_date                     610\n",
       "priority                       0\n",
       "task_category                  0\n",
       "assigned_to                    0\n",
       "estimated_effort_hours         0\n",
       "user_preferred_categories      0\n",
       "user_current_workload          0\n",
       "dtype: int64"
      ]
     },
     "execution_count": 42,
     "metadata": {},
     "output_type": "execute_result"
    }
   ],
   "source": [
    "df.isnull().sum()"
   ]
  },
  {
   "cell_type": "code",
   "execution_count": 43,
   "id": "be3f3dd6",
   "metadata": {},
   "outputs": [],
   "source": [
    "# Create deadline-based features\n",
    "df['days_until_due'] = (df['due_date'] - df['creation_date']).dt.days\n",
    "df['days_until_due'] = df['days_until_due'].fillna(-1)  # -1 = No due date\n",
    "\n",
    "# Add binary indicator\n",
    "df['has_due_date'] = df['due_date'].notnull().astype(int)"
   ]
  },
  {
   "cell_type": "code",
   "execution_count": 44,
   "id": "4fa6139e",
   "metadata": {},
   "outputs": [
    {
     "data": {
      "text/html": [
       "<div>\n",
       "<style scoped>\n",
       "    .dataframe tbody tr th:only-of-type {\n",
       "        vertical-align: middle;\n",
       "    }\n",
       "\n",
       "    .dataframe tbody tr th {\n",
       "        vertical-align: top;\n",
       "    }\n",
       "\n",
       "    .dataframe thead th {\n",
       "        text-align: right;\n",
       "    }\n",
       "</style>\n",
       "<table border=\"1\" class=\"dataframe\">\n",
       "  <thead>\n",
       "    <tr style=\"text-align: right;\">\n",
       "      <th></th>\n",
       "      <th>task_description</th>\n",
       "      <th>creation_date</th>\n",
       "      <th>due_date</th>\n",
       "      <th>priority</th>\n",
       "      <th>task_category</th>\n",
       "      <th>assigned_to</th>\n",
       "      <th>estimated_effort_hours</th>\n",
       "      <th>user_preferred_categories</th>\n",
       "      <th>user_current_workload</th>\n",
       "      <th>days_until_due</th>\n",
       "      <th>has_due_date</th>\n",
       "    </tr>\n",
       "    <tr>\n",
       "      <th>task_id</th>\n",
       "      <th></th>\n",
       "      <th></th>\n",
       "      <th></th>\n",
       "      <th></th>\n",
       "      <th></th>\n",
       "      <th></th>\n",
       "      <th></th>\n",
       "      <th></th>\n",
       "      <th></th>\n",
       "      <th></th>\n",
       "      <th></th>\n",
       "    </tr>\n",
       "  </thead>\n",
       "  <tbody>\n",
       "    <tr>\n",
       "      <th>1</th>\n",
       "      <td>Explore trends in tech.</td>\n",
       "      <td>2025-06-04</td>\n",
       "      <td>NaT</td>\n",
       "      <td>Medium</td>\n",
       "      <td>Research</td>\n",
       "      <td>Isaac</td>\n",
       "      <td>9</td>\n",
       "      <td>Marketing, HR</td>\n",
       "      <td>2</td>\n",
       "      <td>-1.0</td>\n",
       "      <td>0</td>\n",
       "    </tr>\n",
       "    <tr>\n",
       "      <th>2</th>\n",
       "      <td>Research Vision methods.</td>\n",
       "      <td>2025-05-19</td>\n",
       "      <td>2025-06-12</td>\n",
       "      <td>Low</td>\n",
       "      <td>Research</td>\n",
       "      <td>Chloe</td>\n",
       "      <td>7</td>\n",
       "      <td>Research, Support</td>\n",
       "      <td>7</td>\n",
       "      <td>24.0</td>\n",
       "      <td>1</td>\n",
       "    </tr>\n",
       "    <tr>\n",
       "      <th>3</th>\n",
       "      <td>Analyze QQ4 campaign data.</td>\n",
       "      <td>2025-02-28</td>\n",
       "      <td>2025-03-30</td>\n",
       "      <td>High</td>\n",
       "      <td>Marketing</td>\n",
       "      <td>Grace</td>\n",
       "      <td>8</td>\n",
       "      <td>Marketing</td>\n",
       "      <td>0</td>\n",
       "      <td>30.0</td>\n",
       "      <td>1</td>\n",
       "    </tr>\n",
       "    <tr>\n",
       "      <th>4</th>\n",
       "      <td>Deploy v1.7 to production.</td>\n",
       "      <td>2025-03-19</td>\n",
       "      <td>2025-04-15</td>\n",
       "      <td>Medium</td>\n",
       "      <td>Development</td>\n",
       "      <td>David</td>\n",
       "      <td>2</td>\n",
       "      <td>Development</td>\n",
       "      <td>6</td>\n",
       "      <td>27.0</td>\n",
       "      <td>1</td>\n",
       "    </tr>\n",
       "    <tr>\n",
       "      <th>5</th>\n",
       "      <td>Schedule meeting with CTO.</td>\n",
       "      <td>2025-02-19</td>\n",
       "      <td>2025-03-17</td>\n",
       "      <td>High</td>\n",
       "      <td>Admin</td>\n",
       "      <td>Ivy</td>\n",
       "      <td>5</td>\n",
       "      <td>Admin</td>\n",
       "      <td>4</td>\n",
       "      <td>26.0</td>\n",
       "      <td>1</td>\n",
       "    </tr>\n",
       "  </tbody>\n",
       "</table>\n",
       "</div>"
      ],
      "text/plain": [
       "                   task_description creation_date   due_date priority  \\\n",
       "task_id                                                                 \n",
       "1           Explore trends in tech.    2025-06-04        NaT   Medium   \n",
       "2          Research Vision methods.    2025-05-19 2025-06-12      Low   \n",
       "3        Analyze QQ4 campaign data.    2025-02-28 2025-03-30     High   \n",
       "4        Deploy v1.7 to production.    2025-03-19 2025-04-15   Medium   \n",
       "5        Schedule meeting with CTO.    2025-02-19 2025-03-17     High   \n",
       "\n",
       "        task_category assigned_to  estimated_effort_hours  \\\n",
       "task_id                                                     \n",
       "1            Research       Isaac                       9   \n",
       "2            Research       Chloe                       7   \n",
       "3           Marketing       Grace                       8   \n",
       "4         Development       David                       2   \n",
       "5               Admin         Ivy                       5   \n",
       "\n",
       "        user_preferred_categories  user_current_workload  days_until_due  \\\n",
       "task_id                                                                    \n",
       "1                   Marketing, HR                      2            -1.0   \n",
       "2               Research, Support                      7            24.0   \n",
       "3                       Marketing                      0            30.0   \n",
       "4                     Development                      6            27.0   \n",
       "5                           Admin                      4            26.0   \n",
       "\n",
       "         has_due_date  \n",
       "task_id                \n",
       "1                   0  \n",
       "2                   1  \n",
       "3                   1  \n",
       "4                   1  \n",
       "5                   1  "
      ]
     },
     "execution_count": 44,
     "metadata": {},
     "output_type": "execute_result"
    }
   ],
   "source": [
    "df.head()"
   ]
  },
  {
   "cell_type": "code",
   "execution_count": 45,
   "id": "8febdddb",
   "metadata": {},
   "outputs": [
    {
     "data": {
      "image/png": "[encoded data removed]",
      "text/plain": [
       "<Figure size 1000x400 with 1 Axes>"
      ]
     },
     "metadata": {},
     "output_type": "display_data"
    }
   ],
   "source": [
    "# Task Category Count Plot\n",
    "df['task_category'].value_counts().plot(kind='bar', figsize=(10, 4), color='skyblue', title='Task Category Distribution')\n",
    "plt.xlabel('Task Category')\n",
    "plt.ylabel('Count')\n",
    "plt.xticks(rotation=45)\n",
    "plt.grid(axis='y', linestyle='--', alpha=0.7)\n",
    "plt.show()"
   ]
  },
  {
   "cell_type": "code",
   "execution_count": 46,
   "id": "c2ef2299",
   "metadata": {},
   "outputs": [
    {
     "data": {
      "image/png": "[encoded data removed]",
      "text/plain": [
       "<Figure size 640x480 with 1 Axes>"
      ]
     },
     "metadata": {},
     "output_type": "display_data"
    }
   ],
   "source": [
    "\n",
    "# Priority Count Plot\n",
    "df['priority'].value_counts().loc[['Low', 'Medium', 'High', 'Critical']].plot(kind='bar', color='orange', title='Task Priority Distribution')\n",
    "plt.xlabel('Priority')\n",
    "plt.ylabel('Count')\n",
    "plt.grid(axis='y', linestyle='--', alpha=0.7)\n",
    "plt.tight_layout()\n",
    "plt.show()"
   ]
  },
  {
   "cell_type": "code",
   "execution_count": 47,
   "id": "e7f0ef37",
   "metadata": {},
   "outputs": [
    {
     "data": {
      "image/png": "[encoded data removed]",
      "text/plain": [
       "<Figure size 800x400 with 1 Axes>"
      ]
     },
     "metadata": {},
     "output_type": "display_data"
    }
   ],
   "source": [
    "# Days Until Due Histogram\n",
    "plt.figure(figsize=(8, 4))\n",
    "plt.hist(df['days_until_due'], bins=30, color='purple', edgecolor='black')\n",
    "plt.title('Days Until Task Due')\n",
    "plt.xlabel('Days Until Due')\n",
    "plt.ylabel('Number of Tasks')\n",
    "plt.grid(axis='y', linestyle='--', alpha=0.7)\n",
    "plt.tight_layout()\n",
    "plt.show()"
   ]
  },
  {
   "cell_type": "markdown",
   "id": "e1d2068e",
   "metadata": {},
   "source": [
    "NLP Preprocessing"
   ]
  },
  {
   "cell_type": "code",
   "execution_count": 48,
   "id": "881b912c",
   "metadata": {},
   "outputs": [
    {
     "data": {
      "text/html": [
       "<div>\n",
       "<style scoped>\n",
       "    .dataframe tbody tr th:only-of-type {\n",
       "        vertical-align: middle;\n",
       "    }\n",
       "\n",
       "    .dataframe tbody tr th {\n",
       "        vertical-align: top;\n",
       "    }\n",
       "\n",
       "    .dataframe thead th {\n",
       "        text-align: right;\n",
       "    }\n",
       "</style>\n",
       "<table border=\"1\" class=\"dataframe\">\n",
       "  <thead>\n",
       "    <tr style=\"text-align: right;\">\n",
       "      <th></th>\n",
       "      <th>task_description</th>\n",
       "      <th>processed_description</th>\n",
       "    </tr>\n",
       "    <tr>\n",
       "      <th>task_id</th>\n",
       "      <th></th>\n",
       "      <th></th>\n",
       "    </tr>\n",
       "  </thead>\n",
       "  <tbody>\n",
       "    <tr>\n",
       "      <th>1</th>\n",
       "      <td>Explore trends in tech.</td>\n",
       "      <td>explor trend tech</td>\n",
       "    </tr>\n",
       "    <tr>\n",
       "      <th>2</th>\n",
       "      <td>Research Vision methods.</td>\n",
       "      <td>research vision method</td>\n",
       "    </tr>\n",
       "    <tr>\n",
       "      <th>3</th>\n",
       "      <td>Analyze QQ4 campaign data.</td>\n",
       "      <td>analyz qq campaign data</td>\n",
       "    </tr>\n",
       "    <tr>\n",
       "      <th>4</th>\n",
       "      <td>Deploy v1.7 to production.</td>\n",
       "      <td>deploy v product</td>\n",
       "    </tr>\n",
       "    <tr>\n",
       "      <th>5</th>\n",
       "      <td>Schedule meeting with CTO.</td>\n",
       "      <td>schedul meet cto</td>\n",
       "    </tr>\n",
       "  </tbody>\n",
       "</table>\n",
       "</div>"
      ],
      "text/plain": [
       "                   task_description    processed_description\n",
       "task_id                                                     \n",
       "1           Explore trends in tech.        explor trend tech\n",
       "2          Research Vision methods.   research vision method\n",
       "3        Analyze QQ4 campaign data.  analyz qq campaign data\n",
       "4        Deploy v1.7 to production.         deploy v product\n",
       "5        Schedule meeting with CTO.         schedul meet cto"
      ]
     },
     "execution_count": 48,
     "metadata": {},
     "output_type": "execute_result"
    }
   ],
   "source": [
    "from nltk.tokenize import word_tokenize\n",
    "from nltk.stem import PorterStemmer\n",
    "from nltk.corpus import stopwords\n",
    "import string\n",
    "import re\n",
    "\n",
    "# Initialize NLTK tools\n",
    "stemmer = PorterStemmer()\n",
    "stop_words = set(stopwords.words('english'))\n",
    "\n",
    "# Preprocessing function\n",
    "def preprocess_text(text):\n",
    "    text = text.lower()\n",
    "    text = re.sub(r'\\d+', '', text)  # Remove numbers\n",
    "    text = text.translate(str.maketrans('', '', string.punctuation))  # Remove punctuation\n",
    "    tokens = word_tokenize(text)\n",
    "    filtered_tokens = [stemmer.stem(w) for w in tokens if w.isalpha() and w not in stop_words]\n",
    "    return \" \".join(filtered_tokens)\n",
    "\n",
    "# Apply to your original DataFrame\n",
    "df['processed_description'] = df['task_description'].apply(preprocess_text)\n",
    "\n",
    "# Preview to ensure correctness\n",
    "df[['task_description', 'processed_description']].head()\n",
    "\n",
    "\n"
   ]
  },
  {
   "cell_type": "markdown",
   "id": "da8a7a1e",
   "metadata": {},
   "source": [
    "Week 2"
   ]
  },
  {
   "cell_type": "code",
   "execution_count": 49,
   "id": "61dd07a0",
   "metadata": {},
   "outputs": [],
   "source": [
    "# ML & NLP\n",
    "from sklearn.feature_extraction.text import TfidfVectorizer\n",
    "from sklearn.model_selection import train_test_split\n",
    "from sklearn.naive_bayes import MultinomialNB\n",
    "from sklearn.svm import LinearSVC\n",
    "from sklearn.metrics import classification_report, accuracy_score, f1_score"
   ]
  },
  {
   "cell_type": "code",
   "execution_count": 50,
   "id": "ac5aa832",
   "metadata": {},
   "outputs": [],
   "source": [
    "# Split raw text BEFORE vectorization\n",
    "X_train_text, X_test_text, y_train, y_test = train_test_split(\n",
    "    df['processed_description'], df['task_category'], test_size=0.2, random_state=42)\n",
    "\n",
    "# TF-IDF on training only\n",
    "vectorizer = TfidfVectorizer(\n",
    "    max_features=5000,\n",
    "    ngram_range=(1, 2),         # Include unigrams + bigrams\n",
    "    stop_words='english',       # Remove common English stopwords\n",
    "    lowercase=True              # (Default, but ensure consistency)\n",
    ")\n",
    "\n",
    "X_train = vectorizer.fit_transform(X_train_text)\n",
    "X_test = vectorizer.transform(X_test_text)\n"
   ]
  },
  {
   "cell_type": "code",
   "execution_count": 51,
   "id": "411fb01a",
   "metadata": {},
   "outputs": [
    {
     "name": "stdout",
     "output_type": "stream",
     "text": [
      "=== Naive Bayes ===\n",
      "Accuracy: 0.91\n",
      "              precision    recall  f1-score   support\n",
      "\n",
      "       Admin       0.89      0.92      0.90        87\n",
      " Development       1.00      0.90      0.95       109\n",
      "     Finance       0.90      0.94      0.92        89\n",
      "          HR       0.87      0.94      0.90        63\n",
      "   Marketing       0.87      0.95      0.90        55\n",
      "    Research       0.95      0.88      0.91       127\n",
      "     Support       0.84      0.87      0.85        70\n",
      "\n",
      "    accuracy                           0.91       600\n",
      "   macro avg       0.90      0.91      0.91       600\n",
      "weighted avg       0.91      0.91      0.91       600\n",
      "\n"
     ]
    }
   ],
   "source": [
    "# Naive Bayes\n",
    "nb_model = MultinomialNB()\n",
    "nb_model.fit(X_train, y_train)\n",
    "y_pred_nb = nb_model.predict(X_test)\n",
    "\n",
    "print(\"=== Naive Bayes ===\")\n",
    "print(\"Accuracy:\", accuracy_score(y_test, y_pred_nb))\n",
    "print(classification_report(y_test, y_pred_nb))\n"
   ]
  },
  {
   "cell_type": "code",
   "execution_count": 52,
   "id": "fd09c672",
   "metadata": {},
   "outputs": [
    {
     "name": "stdout",
     "output_type": "stream",
     "text": [
      "Task: Fix bug in the payment gateway\n",
      "Predicted Category: Development\n",
      "---\n",
      "Task: Prepare payroll report for June\n",
      "Predicted Category: Finance\n",
      "---\n",
      "Task: Schedule interviews for software engineer\n",
      "Predicted Category: HR\n",
      "---\n",
      "Task: Write blog post for new product launch\n",
      "Predicted Category: Marketing\n",
      "---\n",
      "Task: Conduct survey on employee satisfaction\n",
      "Predicted Category: Research\n",
      "---\n",
      "\n",
      "=== Evaluation on Unseen Data ===\n",
      "Accuracy: 0.8\n",
      "F1 Score (macro): 0.7333333333333333\n",
      "Classification Report:\n",
      "               precision    recall  f1-score   support\n",
      "\n",
      " Development       1.00      1.00      1.00         1\n",
      "     Finance       1.00      1.00      1.00         1\n",
      "          HR       1.00      0.50      0.67         2\n",
      "   Marketing       1.00      1.00      1.00         1\n",
      "    Research       0.00      0.00      0.00         0\n",
      "\n",
      "    accuracy                           0.80         5\n",
      "   macro avg       0.80      0.70      0.73         5\n",
      "weighted avg       1.00      0.80      0.87         5\n",
      "\n"
     ]
    }
   ],
   "source": [
    "#test naive bayes on unseen data\n",
    "# Preprocessing function\n",
    "def preprocess_text(text):\n",
    "    text = text.lower()\n",
    "    text = re.sub(f\"[{string.punctuation}]\", \" \", text)\n",
    "    tokens = nltk.word_tokenize(text)\n",
    "    stop_words = set(stopwords.words('english'))\n",
    "    tokens = [t for t in tokens if t not in stop_words]\n",
    "    lemmatizer = WordNetLemmatizer()\n",
    "    tokens = [lemmatizer.lemmatize(t) for t in tokens]\n",
    "    return \" \".join(tokens)\n",
    "\n",
    "# Prediction function\n",
    "def predict_task_category_nb(task_description):\n",
    "    processed = preprocess_text(task_description)\n",
    "    vectorized = vectorizer.transform([processed])\n",
    "    return nb_model.predict(vectorized)[0]\n",
    "# Unseen examples and true labels\n",
    "new_tasks = [\n",
    "    \"Fix bug in the payment gateway\",\n",
    "    \"Prepare payroll report for June\",\n",
    "    \"Schedule interviews for software engineer\",\n",
    "    \"Write blog post for new product launch\",\n",
    "    \"Conduct survey on employee satisfaction\"\n",
    "]\n",
    "\n",
    "true_labels = [\n",
    "    \"Development\",\n",
    "    \"Finance\",\n",
    "    \"HR\",\n",
    "    \"Marketing\",\n",
    "    \"HR\"\n",
    "]\n",
    "\n",
    "# Predict and evaluate\n",
    "predicted_labels = [predict_task_category_nb(task) for task in new_tasks]\n",
    "\n",
    "for task, pred in zip(new_tasks, predicted_labels):\n",
    "    print(f\"Task: {task}\")\n",
    "    print(f\"Predicted Category: {pred}\")\n",
    "    print(\"---\")\n",
    "\n",
    "print(\"\\n=== Evaluation on Unseen Data ===\")\n",
    "print(\"Accuracy:\", accuracy_score(true_labels, predicted_labels))\n",
    "print(\"F1 Score (macro):\", f1_score(true_labels, predicted_labels, average='macro'))\n",
    "print(\"Classification Report:\\n\", classification_report(true_labels, predicted_labels, zero_division=0))\n"
   ]
  },
  {
   "cell_type": "code",
   "execution_count": 53,
   "id": "039188fa",
   "metadata": {},
   "outputs": [
    {
     "name": "stdout",
     "output_type": "stream",
     "text": [
      "=== SVM: Task Category Classification ===\n",
      "Accuracy: 0.9083333333333333\n",
      "              precision    recall  f1-score   support\n",
      "\n",
      "       Admin       0.93      0.91      0.92        87\n",
      " Development       0.91      0.90      0.90       109\n",
      "     Finance       1.00      0.94      0.97        89\n",
      "          HR       0.88      0.94      0.91        63\n",
      "   Marketing       0.79      0.96      0.87        55\n",
      "    Research       1.00      0.87      0.93       127\n",
      "     Support       0.78      0.87      0.82        70\n",
      "\n",
      "    accuracy                           0.91       600\n",
      "   macro avg       0.90      0.91      0.90       600\n",
      "weighted avg       0.92      0.91      0.91       600\n",
      "\n"
     ]
    }
   ],
   "source": [
    "from sklearn.svm import LinearSVC\n",
    "\n",
    "svm_model = LinearSVC()\n",
    "svm_model.fit(X_train, y_train)\n",
    "y_pred_svm = svm_model.predict(X_test)\n",
    "\n",
    "print(\"=== SVM: Task Category Classification ===\")\n",
    "print(\"Accuracy:\", accuracy_score(y_test, y_pred_svm))\n",
    "print(classification_report(y_test, y_pred_svm))\n"
   ]
  },
  {
   "cell_type": "code",
   "execution_count": 54,
   "id": "cbd65a35",
   "metadata": {},
   "outputs": [
    {
     "name": "stdout",
     "output_type": "stream",
     "text": [
      "Task: Fix bug in the payment gateway\n",
      "Predicted Category: Development\n",
      "---\n",
      "Task: Prepare payroll report for June\n",
      "Predicted Category: Finance\n",
      "---\n",
      "Task: Schedule interviews for software engineer\n",
      "Predicted Category: HR\n",
      "---\n",
      "Task: Write blog post for new product launch\n",
      "Predicted Category: Marketing\n",
      "---\n",
      "Task: Conduct survey on employee satisfaction\n",
      "Predicted Category: Development\n",
      "---\n",
      "\n",
      "=== SVM Evaluation on Unseen Data ===\n",
      "Accuracy: 0.8\n",
      "F1 Score (macro): 0.8333333333333333\n",
      "Classification Report:\n",
      "               precision    recall  f1-score   support\n",
      "\n",
      " Development       0.50      1.00      0.67         1\n",
      "     Finance       1.00      1.00      1.00         1\n",
      "          HR       1.00      0.50      0.67         2\n",
      "   Marketing       1.00      1.00      1.00         1\n",
      "\n",
      "    accuracy                           0.80         5\n",
      "   macro avg       0.88      0.88      0.83         5\n",
      "weighted avg       0.90      0.80      0.80         5\n",
      "\n"
     ]
    }
   ],
   "source": [
    "# Test svm on unseen data\n",
    "# Preprocessing function\n",
    "def preprocess_text(text):\n",
    "    text = text.lower()\n",
    "    text = re.sub(f\"[{string.punctuation}]\", \" \", text)\n",
    "    tokens = nltk.word_tokenize(text)\n",
    "    stop_words = set(stopwords.words('english'))\n",
    "    tokens = [t for t in tokens if t not in stop_words]\n",
    "    lemmatizer = WordNetLemmatizer()\n",
    "    tokens = [lemmatizer.lemmatize(t) for t in tokens]\n",
    "    return \" \".join(tokens)\n",
    "\n",
    "# Prediction function\n",
    "def predict_task_category_svm(task_description):\n",
    "    processed = preprocess_text(task_description)\n",
    "    vectorized = vectorizer.transform([processed])\n",
    "    return svm_model.predict(vectorized)[0]\n",
    "# Unseen tasks and true labels\n",
    "new_tasks = [\n",
    "    \"Fix bug in the payment gateway\",\n",
    "    \"Prepare payroll report for June\",\n",
    "    \"Schedule interviews for software engineer\",\n",
    "    \"Write blog post for new product launch\",\n",
    "    \"Conduct survey on employee satisfaction\"\n",
    "]\n",
    "\n",
    "true_labels = [\n",
    "    \"Development\",\n",
    "    \"Finance\",\n",
    "    \"HR\",\n",
    "    \"Marketing\",\n",
    "    \"HR\"\n",
    "]\n",
    "\n",
    "# Predict and evaluate\n",
    "predicted_labels = [predict_task_category_svm(task) for task in new_tasks]\n",
    "\n",
    "for task, pred in zip(new_tasks, predicted_labels):\n",
    "    print(f\"Task: {task}\")\n",
    "    print(f\"Predicted Category: {pred}\")\n",
    "    print(\"---\")\n",
    "\n",
    "print(\"\\n=== SVM Evaluation on Unseen Data ===\")\n",
    "print(\"Accuracy:\", accuracy_score(true_labels, predicted_labels))\n",
    "print(\"F1 Score (macro):\", f1_score(true_labels, predicted_labels, average='macro'))\n",
    "print(\"Classification Report:\\n\", classification_report(true_labels, predicted_labels, zero_division=0))\n"
   ]
  },
  {
   "cell_type": "markdown",
   "id": "95139c55",
   "metadata": {},
   "source": [
    "Week 3"
   ]
  },
  {
   "cell_type": "code",
   "execution_count": 55,
   "id": "0291803f",
   "metadata": {},
   "outputs": [],
   "source": [
    "def compute_priority(row):\n",
    "    if row['has_due_date'] == 0:\n",
    "        return 'Low'\n",
    "    elif row['days_until_due'] <= 2 or row['user_current_workload'] >= 6:\n",
    "        return 'Critical'\n",
    "    elif row['estimated_effort_hours'] >= 10:\n",
    "        return 'High'\n",
    "    elif row['days_until_due'] <= 5:\n",
    "        return 'Medium'\n",
    "    else:\n",
    "        return 'Low'\n",
    "\n",
    "df['priority'] = df.apply(compute_priority, axis=1)\n",
    "df['priority_encoded'] = df['priority'].map({'Low':0, 'Medium':1, 'High':2, 'Critical':3})\n"
   ]
  },
  {
   "cell_type": "code",
   "execution_count": 56,
   "id": "895eeda3",
   "metadata": {},
   "outputs": [],
   "source": [
    "# TF-IDF features already vectorized\n",
    "desc_tfidf = vectorizer.transform(df['processed_description'])\n",
    "\n",
    "# Combine with numeric features\n",
    "from scipy.sparse import hstack\n",
    "numeric_features = df[['estimated_effort_hours', 'days_until_due', 'has_due_date', 'user_current_workload']].values\n",
    "X_priority = hstack([desc_tfidf, numeric_features])\n",
    "y_priority = df['priority_encoded']\n"
   ]
  },
  {
   "cell_type": "code",
   "execution_count": 57,
   "id": "fcd9d7d4",
   "metadata": {},
   "outputs": [],
   "source": [
    "from sklearn.model_selection import train_test_split\n",
    "\n",
    "X_train_p, X_test_p, y_train_p, y_test_p = train_test_split(\n",
    "    X_priority, y_priority, test_size=0.2, random_state=42)\n"
   ]
  },
  {
   "cell_type": "code",
   "execution_count": 58,
   "id": "470236d9",
   "metadata": {},
   "outputs": [
    {
     "name": "stdout",
     "output_type": "stream",
     "text": [
      "=== Random Forest: Priority Prediction ===\n",
      "Accuracy: 0.9833333333333333\n",
      "              precision    recall  f1-score   support\n",
      "\n",
      "           0       0.99      1.00      1.00       328\n",
      "           1       0.86      0.78      0.82        23\n",
      "           2       1.00      1.00      1.00        84\n",
      "           3       0.98      0.97      0.97       165\n",
      "\n",
      "    accuracy                           0.98       600\n",
      "   macro avg       0.96      0.94      0.95       600\n",
      "weighted avg       0.98      0.98      0.98       600\n",
      "\n"
     ]
    }
   ],
   "source": [
    "from sklearn.ensemble import RandomForestClassifier\n",
    "from sklearn.metrics import accuracy_score, classification_report\n",
    "\n",
    "rf_priority_model = RandomForestClassifier(n_estimators=100, random_state=42)\n",
    "rf_priority_model.fit(X_train_p, y_train_p)\n",
    "y_pred_priority = rf_priority_model.predict(X_test_p)\n",
    "\n",
    "print(\"=== Random Forest: Priority Prediction ===\")\n",
    "print(\"Accuracy:\", accuracy_score(y_test_p, y_pred_priority))\n",
    "print(classification_report(y_test_p, y_pred_priority))\n"
   ]
  },
  {
   "cell_type": "code",
   "execution_count": 59,
   "id": "f6d33744",
   "metadata": {},
   "outputs": [
    {
     "name": "stdout",
     "output_type": "stream",
     "text": [
      "XGBoost Accuracy: 1.0\n",
      "              precision    recall  f1-score   support\n",
      "\n",
      "           0       1.00      1.00      1.00       328\n",
      "           1       1.00      1.00      1.00        23\n",
      "           2       1.00      1.00      1.00        84\n",
      "           3       1.00      1.00      1.00       165\n",
      "\n",
      "    accuracy                           1.00       600\n",
      "   macro avg       1.00      1.00      1.00       600\n",
      "weighted avg       1.00      1.00      1.00       600\n",
      "\n"
     ]
    },
    {
     "name": "stderr",
     "output_type": "stream",
     "text": [
      "c:\\Users\\rahul\\miniconda3\\envs\\pyenv\\Lib\\site-packages\\xgboost\\training.py:183: UserWarning: [17:43:49] WARNING: C:\\b\\abs_d97hy_84m6\\croot\\xgboost-split_1749630932152\\work\\src\\learner.cc:738: \n",
      "Parameters: { \"use_label_encoder\" } are not used.\n",
      "\n",
      "  bst.update(dtrain, iteration=i, fobj=obj)\n"
     ]
    }
   ],
   "source": [
    "from xgboost import XGBClassifier\n",
    "\n",
    "xgb_model = XGBClassifier(\n",
    "    use_label_encoder=False,\n",
    "    objective='multi:softmax',  # Predict class labels directly\n",
    "    eval_metric='mlogloss',\n",
    "    num_class=4,  # REQUIRED if your labels are 0,1,2,3\n",
    "    random_state=42\n",
    ")\n",
    "xgb_model.fit(X_train_p, y_train_p)\n",
    "y_pred_xgb = xgb_model.predict(X_test_p)\n",
    "\n",
    "print(\"XGBoost Accuracy:\", accuracy_score(y_test_p, y_pred_xgb))\n",
    "print(classification_report(y_test_p, y_pred_xgb))\n",
    "\n"
   ]
  },
  {
   "cell_type": "markdown",
   "id": "414b9870",
   "metadata": {},
   "source": [
    "Workload balancing"
   ]
  },
  {
   "cell_type": "code",
   "execution_count": 60,
   "id": "da2efd79",
   "metadata": {},
   "outputs": [],
   "source": [
    "from collections import defaultdict\n",
    "\n",
    "# Rebuild USERS list from the dataset\n",
    "USERS = df['assigned_to'].dropna().unique().tolist()\n",
    "\n",
    "# If user profiles are not available from earlier, reconstruct them\n",
    "user_profiles = {}\n",
    "for user in USERS:\n",
    "    # Use fallback preferred categories if not already available\n",
    "    sample_categories = df[df['assigned_to'] == user]['task_category'].unique().tolist()\n",
    "    user_profiles[user] = {\n",
    "        'preferred_categories': sample_categories[:2] if sample_categories else ['Development', 'Admin'],\n",
    "        'current_workload': 0  # start fresh\n",
    "    }\n",
    "\n",
    "# Set up workload tracker\n",
    "user_workload = defaultdict(int)\n",
    "\n",
    "# Assignment logic\n",
    "def assign_user(row):\n",
    "    category = row['task_category']\n",
    "    effort = row['estimated_effort_hours']\n",
    "\n",
    "    # Find users who prefer this category\n",
    "    candidates = [user for user in USERS if category in user_profiles[user]['preferred_categories']]\n",
    "    \n",
    "    if not candidates:\n",
    "        candidates = USERS\n",
    "\n",
    "    # Select user with least workload\n",
    "    best_user = min(candidates, key=lambda u: user_workload[u])\n",
    "    user_workload[best_user] += effort  # simulate assignment\n",
    "    return best_user\n",
    "\n",
    "# Assign users to each task\n",
    "df['assigned_by_logic'] = df.apply(assign_user, axis=1)\n"
   ]
  },
  {
   "cell_type": "code",
   "execution_count": 61,
   "id": "56854c5a",
   "metadata": {},
   "outputs": [
    {
     "name": "stdout",
     "output_type": "stream",
     "text": [
      "Assignment logic matched 5.80% of original assignments.\n"
     ]
    }
   ],
   "source": [
    "match_pct = (df['assigned_by_logic'] == df['assigned_to']).mean() * 100\n",
    "print(f\"Assignment logic matched {match_pct:.2f}% of original assignments.\")\n"
   ]
  },
  {
   "cell_type": "markdown",
   "id": "0a29bf13",
   "metadata": {},
   "source": [
    "Hyper parameter tuning using GridsearchCV"
   ]
  },
  {
   "cell_type": "code",
   "execution_count": 62,
   "id": "50e9fe80",
   "metadata": {},
   "outputs": [
    {
     "name": "stdout",
     "output_type": "stream",
     "text": [
      "\n",
      "🔍 Running GridSearchCV for Naive Bayes...\n",
      "Fitting 3 folds for each of 4 candidates, totalling 12 fits\n",
      "\n",
      "✅ Naive Bayes Results\n",
      "Best Params: {'alpha': 1.0}\n",
      "Accuracy: 0.9100\n",
      "F1 (macro): 0.9066\n",
      "              precision    recall  f1-score   support\n",
      "\n",
      "       Admin       0.89      0.92      0.90        87\n",
      " Development       1.00      0.90      0.95       109\n",
      "     Finance       0.90      0.94      0.92        89\n",
      "          HR       0.87      0.94      0.90        63\n",
      "   Marketing       0.87      0.95      0.90        55\n",
      "    Research       0.95      0.88      0.91       127\n",
      "     Support       0.84      0.87      0.85        70\n",
      "\n",
      "    accuracy                           0.91       600\n",
      "   macro avg       0.90      0.91      0.91       600\n",
      "weighted avg       0.91      0.91      0.91       600\n",
      "\n",
      "\n",
      "🔍 Running GridSearchCV for SVM...\n",
      "Fitting 3 folds for each of 6 candidates, totalling 18 fits\n",
      "\n",
      "✅ SVM Results\n",
      "Best Params: {'C': 1, 'max_iter': 1000}\n",
      "Accuracy: 0.9083\n",
      "F1 (macro): 0.9038\n",
      "              precision    recall  f1-score   support\n",
      "\n",
      "       Admin       0.93      0.91      0.92        87\n",
      " Development       0.91      0.90      0.90       109\n",
      "     Finance       1.00      0.94      0.97        89\n",
      "          HR       0.88      0.94      0.91        63\n",
      "   Marketing       0.79      0.96      0.87        55\n",
      "    Research       1.00      0.87      0.93       127\n",
      "     Support       0.78      0.87      0.82        70\n",
      "\n",
      "    accuracy                           0.91       600\n",
      "   macro avg       0.90      0.91      0.90       600\n",
      "weighted avg       0.92      0.91      0.91       600\n",
      "\n"
     ]
    }
   ],
   "source": [
    "from sklearn.naive_bayes import MultinomialNB\n",
    "from sklearn.svm import LinearSVC\n",
    "from sklearn.model_selection import GridSearchCV\n",
    "from sklearn.metrics import classification_report, accuracy_score, f1_score\n",
    "\n",
    "# --- Naive Bayes: Use only non-negative TF-IDF features ---\n",
    "num_tfidf_features = vectorizer.transform([\"sample\"]).shape[1]\n",
    "X_train_tfidf = X_train[:, :num_tfidf_features]\n",
    "X_test_tfidf = X_test[:, :num_tfidf_features]\n",
    "\n",
    "# ----- GridSearchCV for Naive Bayes -----\n",
    "param_grid_nb = {\n",
    "    'alpha': [0.1, 0.5, 1.0, 1.5]\n",
    "}\n",
    "\n",
    "grid_nb = GridSearchCV(\n",
    "    MultinomialNB(),\n",
    "    param_grid=param_grid_nb,\n",
    "    scoring='f1_macro',\n",
    "    cv=3,\n",
    "    n_jobs=-1,\n",
    "    verbose=1\n",
    ")\n",
    "\n",
    "print(\"\\n🔍 Running GridSearchCV for Naive Bayes...\")\n",
    "grid_nb.fit(X_train_tfidf, y_train)\n",
    "best_nb = grid_nb.best_estimator_\n",
    "y_pred_nb = best_nb.predict(X_test_tfidf)\n",
    "nb_model = best_nb\n",
    "\n",
    "print(\"\\n✅ Naive Bayes Results\")\n",
    "print(\"Best Params:\", grid_nb.best_params_)\n",
    "print(f\"Accuracy: {accuracy_score(y_test, y_pred_nb):.4f}\")\n",
    "print(f\"F1 (macro): {f1_score(y_test, y_pred_nb, average='macro'):.4f}\")\n",
    "print(classification_report(y_test, y_pred_nb, zero_division=0))\n",
    "\n",
    "# ----- GridSearchCV for SVM -----\n",
    "param_grid_svm = {\n",
    "    'C': [0.1, 1, 10],\n",
    "    'max_iter': [1000, 2000]\n",
    "}\n",
    "\n",
    "grid_svm = GridSearchCV(\n",
    "    LinearSVC(random_state=42),\n",
    "    param_grid=param_grid_svm,\n",
    "    scoring='f1_macro',\n",
    "    cv=3,\n",
    "    n_jobs=-1,\n",
    "    verbose=1\n",
    ")\n",
    "\n",
    "print(\"\\n🔍 Running GridSearchCV for SVM...\")\n",
    "grid_svm.fit(X_train, y_train)\n",
    "best_svm = grid_svm.best_estimator_\n",
    "y_pred_svm = best_svm.predict(X_test)\n",
    "svm_model = best_svm\n",
    "\n",
    "print(\"\\n✅ SVM Results\")\n",
    "print(\"Best Params:\", grid_svm.best_params_)\n",
    "print(f\"Accuracy: {accuracy_score(y_test, y_pred_svm):.4f}\")\n",
    "print(f\"F1 (macro): {f1_score(y_test, y_pred_svm, average='macro'):.4f}\")\n",
    "print(classification_report(y_test, y_pred_svm, zero_division=0))\n"
   ]
  },
  {
   "cell_type": "code",
   "execution_count": 63,
   "id": "35e1d7fb",
   "metadata": {},
   "outputs": [
    {
     "name": "stdout",
     "output_type": "stream",
     "text": [
      "Task: Fix bug in the payment gateway\n",
      "Predicted Category: Development\n",
      "---\n",
      "Task: Prepare payroll report for June\n",
      "Predicted Category: Finance\n",
      "---\n",
      "Task: Schedule interviews for software engineer\n",
      "Predicted Category: HR\n",
      "---\n",
      "Task: Write blog post for new product launch\n",
      "Predicted Category: Marketing\n",
      "---\n",
      "Task: Conduct survey on employee satisfaction\n",
      "Predicted Category: Research\n",
      "---\n",
      "\n",
      "=== Evaluation on Unseen Data ===\n",
      "Accuracy: 0.8\n",
      "F1 Score (macro): 0.7333333333333333\n",
      "Classification Report:\n",
      "               precision    recall  f1-score   support\n",
      "\n",
      " Development       1.00      1.00      1.00         1\n",
      "     Finance       1.00      1.00      1.00         1\n",
      "          HR       1.00      0.50      0.67         2\n",
      "   Marketing       1.00      1.00      1.00         1\n",
      "    Research       0.00      0.00      0.00         0\n",
      "\n",
      "    accuracy                           0.80         5\n",
      "   macro avg       0.80      0.70      0.73         5\n",
      "weighted avg       1.00      0.80      0.87         5\n",
      "\n"
     ]
    }
   ],
   "source": [
    "#test naive bayes on unseen data\n",
    "# Preprocessing function\n",
    "def preprocess_text(text):\n",
    "    text = text.lower()\n",
    "    text = re.sub(f\"[{string.punctuation}]\", \" \", text)\n",
    "    tokens = nltk.word_tokenize(text)\n",
    "    stop_words = set(stopwords.words('english'))\n",
    "    tokens = [t for t in tokens if t not in stop_words]\n",
    "    lemmatizer = WordNetLemmatizer()\n",
    "    tokens = [lemmatizer.lemmatize(t) for t in tokens]\n",
    "    return \" \".join(tokens)\n",
    "\n",
    "# Prediction function\n",
    "def predict_task_category_nb(task_description):\n",
    "    processed = preprocess_text(task_description)\n",
    "    vectorized = vectorizer.transform([processed])\n",
    "    return nb_model.predict(vectorized)[0]\n",
    "# Unseen examples and true labels\n",
    "new_tasks = [\n",
    "    \"Fix bug in the payment gateway\",\n",
    "    \"Prepare payroll report for June\",\n",
    "    \"Schedule interviews for software engineer\",\n",
    "    \"Write blog post for new product launch\",\n",
    "    \"Conduct survey on employee satisfaction\"\n",
    "]\n",
    "\n",
    "true_labels = [\n",
    "    \"Development\",\n",
    "    \"Finance\",\n",
    "    \"HR\",\n",
    "    \"Marketing\",\n",
    "    \"HR\"\n",
    "]\n",
    "\n",
    "# Predict and evaluate\n",
    "predicted_labels = [predict_task_category_nb(task) for task in new_tasks]\n",
    "\n",
    "for task, pred in zip(new_tasks, predicted_labels):\n",
    "    print(f\"Task: {task}\")\n",
    "    print(f\"Predicted Category: {pred}\")\n",
    "    print(\"---\")\n",
    "\n",
    "print(\"\\n=== Evaluation on Unseen Data ===\")\n",
    "print(\"Accuracy:\", accuracy_score(true_labels, predicted_labels))\n",
    "print(\"F1 Score (macro):\", f1_score(true_labels, predicted_labels, average='macro'))\n",
    "print(\"Classification Report:\\n\", classification_report(true_labels, predicted_labels, zero_division=0))\n"
   ]
  },
  {
   "cell_type": "code",
   "execution_count": 64,
   "id": "a4e06ce7",
   "metadata": {},
   "outputs": [
    {
     "name": "stdout",
     "output_type": "stream",
     "text": [
      "Task: Fix bug in the payment gateway\n",
      "Predicted Category: Development\n",
      "---\n",
      "Task: Prepare payroll report for June\n",
      "Predicted Category: Finance\n",
      "---\n",
      "Task: Schedule interviews for software engineer\n",
      "Predicted Category: HR\n",
      "---\n",
      "Task: Write blog post for new product launch\n",
      "Predicted Category: Marketing\n",
      "---\n",
      "Task: Conduct survey on employee satisfaction\n",
      "Predicted Category: Development\n",
      "---\n",
      "\n",
      "=== SVM Evaluation on Unseen Data ===\n",
      "Accuracy: 0.8\n",
      "F1 Score (macro): 0.8333333333333333\n",
      "Classification Report:\n",
      "               precision    recall  f1-score   support\n",
      "\n",
      " Development       0.50      1.00      0.67         1\n",
      "     Finance       1.00      1.00      1.00         1\n",
      "          HR       1.00      0.50      0.67         2\n",
      "   Marketing       1.00      1.00      1.00         1\n",
      "\n",
      "    accuracy                           0.80         5\n",
      "   macro avg       0.88      0.88      0.83         5\n",
      "weighted avg       0.90      0.80      0.80         5\n",
      "\n"
     ]
    }
   ],
   "source": [
    "# Test svm on unseen data\n",
    "# Preprocessing function\n",
    "def preprocess_text(text):\n",
    "    text = text.lower()\n",
    "    text = re.sub(f\"[{string.punctuation}]\", \" \", text)\n",
    "    tokens = nltk.word_tokenize(text)\n",
    "    stop_words = set(stopwords.words('english'))\n",
    "    tokens = [t for t in tokens if t not in stop_words]\n",
    "    lemmatizer = WordNetLemmatizer()\n",
    "    tokens = [lemmatizer.lemmatize(t) for t in tokens]\n",
    "    return \" \".join(tokens)\n",
    "\n",
    "# Prediction function\n",
    "def predict_task_category_svm(task_description):\n",
    "    processed = preprocess_text(task_description)\n",
    "    vectorized = vectorizer.transform([processed])\n",
    "    return svm_model.predict(vectorized)[0]\n",
    "# Unseen tasks and true labels\n",
    "new_tasks = [\n",
    "    \"Fix bug in the payment gateway\",\n",
    "    \"Prepare payroll report for June\",\n",
    "    \"Schedule interviews for software engineer\",\n",
    "    \"Write blog post for new product launch\",\n",
    "    \"Conduct survey on employee satisfaction\"\n",
    "]\n",
    "\n",
    "true_labels = [\n",
    "    \"Development\",\n",
    "    \"Finance\",\n",
    "    \"HR\",\n",
    "    \"Marketing\",\n",
    "    \"HR\"\n",
    "]\n",
    "\n",
    "# Predict and evaluate\n",
    "predicted_labels = [predict_task_category_svm(task) for task in new_tasks]\n",
    "\n",
    "for task, pred in zip(new_tasks, predicted_labels):\n",
    "    print(f\"Task: {task}\")\n",
    "    print(f\"Predicted Category: {pred}\")\n",
    "    print(\"---\")\n",
    "\n",
    "print(\"\\n=== SVM Evaluation on Unseen Data ===\")\n",
    "print(\"Accuracy:\", accuracy_score(true_labels, predicted_labels))\n",
    "print(\"F1 Score (macro):\", f1_score(true_labels, predicted_labels, average='macro'))\n",
    "print(\"Classification Report:\\n\", classification_report(true_labels, predicted_labels, zero_division=0))\n"
   ]
  },
  {
   "cell_type": "code",
   "execution_count": 65,
   "id": "ee3207ee",
   "metadata": {},
   "outputs": [
    {
     "name": "stdout",
     "output_type": "stream",
     "text": [
      "\n",
      "🔍 Running GridSearchCV for Random Forest...\n",
      "Fitting 3 folds for each of 12 candidates, totalling 36 fits\n",
      "\n",
      "✅ Random Forest Results\n",
      "Best Params: {'max_depth': 20, 'min_samples_leaf': 1, 'n_estimators': 200}\n",
      "Accuracy: 0.9183\n",
      "F1 (macro): 0.9276\n",
      "              precision    recall  f1-score   support\n",
      "\n",
      "       Admin       1.00      0.91      0.95        87\n",
      " Development       0.72      0.96      0.83       109\n",
      "     Finance       1.00      0.94      0.97        89\n",
      "          HR       1.00      0.94      0.97        63\n",
      "   Marketing       1.00      0.95      0.97        55\n",
      "    Research       1.00      0.87      0.93       127\n",
      "     Support       0.87      0.87      0.87        70\n",
      "\n",
      "    accuracy                           0.92       600\n",
      "   macro avg       0.94      0.92      0.93       600\n",
      "weighted avg       0.93      0.92      0.92       600\n",
      "\n"
     ]
    }
   ],
   "source": [
    "from sklearn.ensemble import RandomForestClassifier\n",
    "from sklearn.model_selection import GridSearchCV\n",
    "from sklearn.metrics import classification_report, accuracy_score, f1_score\n",
    "\n",
    "# ----- Parameter Grid for Random Forest -----\n",
    "param_grid_rf = {\n",
    "    'n_estimators': [100, 200],         # Number of trees\n",
    "    'max_depth': [10, 20, None],        # Max depth of each tree\n",
    "    'min_samples_leaf': [1, 2]          # Minimum samples at leaf\n",
    "}\n",
    "\n",
    "# ----- GridSearchCV Setup -----\n",
    "grid_rf = GridSearchCV(\n",
    "    estimator=RandomForestClassifier(random_state=42),\n",
    "    param_grid=param_grid_rf,\n",
    "    cv=3,\n",
    "    n_jobs=-1,\n",
    "    verbose=1,\n",
    "    scoring='f1_macro'  # Macro F1 for multi-class\n",
    ")\n",
    "\n",
    "print(\"\\n🔍 Running GridSearchCV for Random Forest...\")\n",
    "grid_rf.fit(X_train, y_train)\n",
    "\n",
    "# ----- Best Model & Evaluation -----\n",
    "best_rf = grid_rf.best_estimator_\n",
    "y_pred_rf = best_rf.predict(X_test)\n",
    "\n",
    "print(\"\\n✅ Random Forest Results\")\n",
    "print(\"Best Params:\", grid_rf.best_params_)\n",
    "print(f\"Accuracy: {accuracy_score(y_test, y_pred_rf):.4f}\")\n",
    "print(f\"F1 (macro): {f1_score(y_test, y_pred_rf, average='macro'):.4f}\")\n",
    "print(classification_report(y_test, y_pred_rf, zero_division=0))\n"
   ]
  },
  {
   "cell_type": "markdown",
   "id": "30c11f52",
   "metadata": {},
   "source": [
    "Week 4"
   ]
  },
  {
   "cell_type": "code",
   "execution_count": 66,
   "id": "5010374d",
   "metadata": {},
   "outputs": [
    {
     "data": {
      "image/png": "[encoded data removed]",
      "text/plain": [
       "<Figure size 640x480 with 2 Axes>"
      ]
     },
     "metadata": {},
     "output_type": "display_data"
    }
   ],
   "source": [
    "from sklearn.metrics import ConfusionMatrixDisplay\n",
    "import matplotlib.pyplot as plt\n",
    "\n",
    "# Plot Confusion Matrix for Random Forest Priority Prediction\n",
    "ConfusionMatrixDisplay.from_estimator(\n",
    "    rf_priority_model,  # Use the correct model for priority prediction\n",
    "    X_test_p,\n",
    "    y_test_p,\n",
    "    display_labels=['Low', 'Medium', 'High', 'Critical'],\n",
    "    cmap='Blues',\n",
    "    xticks_rotation=45\n",
    ")\n",
    "plt.title(\"Random Forest - Priority Prediction Confusion Matrix\")\n",
    "plt.grid(False)\n",
    "plt.tight_layout()\n",
    "plt.show()"
   ]
  },
  {
   "cell_type": "code",
   "execution_count": 67,
   "id": "c702657b",
   "metadata": {},
   "outputs": [
    {
     "name": "stdout",
     "output_type": "stream",
     "text": [
      "🔢 Model Accuracy Scores:\n",
      "Naive Bayes Accuracy     : 0.9100\n",
      "SVM Accuracy             : 0.9083\n",
      "Random Forest Accuracy   : 0.9183\n"
     ]
    }
   ],
   "source": [
    "from sklearn.metrics import accuracy_score\n",
    "\n",
    "print(\"🔢 Model Accuracy Scores:\")\n",
    "print(f\"Naive Bayes Accuracy     : {accuracy_score(y_test, y_pred_nb):.4f}\")\n",
    "print(f\"SVM Accuracy             : {accuracy_score(y_test, y_pred_svm):.4f}\")\n",
    "print(f\"Random Forest Accuracy   : {accuracy_score(y_test, y_pred_rf):.4f}\")\n"
   ]
  },
  {
   "cell_type": "code",
   "execution_count": 68,
   "id": "934a4d27",
   "metadata": {},
   "outputs": [
    {
     "name": "stdout",
     "output_type": "stream",
     "text": [
      "✅ All models and vectorizer saved to 'models/' folder.\n"
     ]
    }
   ],
   "source": [
    "import joblib\n",
    "\n",
    "# Save the TF-IDF vectorizer (used for both SVM and Random Forest inputs)\n",
    "joblib.dump(vectorizer, 'models/vectorizer.pkl')\n",
    "\n",
    "# Save the best SVM model (for task category classification)\n",
    "joblib.dump(svm_model, 'models/svm_model.pkl')\n",
    "\n",
    "# Save the Random Forest model (for priority prediction)\n",
    "joblib.dump(rf_priority_model, 'models/rf_priority_model.pkl')\n",
    "\n",
    "print(\"✅ All models and vectorizer saved to 'models/' folder.\")\n"
   ]
  }
 ],
 "metadata": {
  "kernelspec": {
   "display_name": "pyenv",
   "language": "python",
   "name": "python3"
  },
  "language_info": {
   "codemirror_mode": {
    "name": "ipython",
    "version": 3
   },
   "file_extension": ".py",
   "mimetype": "text/x-python",
   "name": "python",
   "nbconvert_exporter": "python",
   "pygments_lexer": "ipython3",
   "version": "3.13.2"
  }
 },
 "nbformat": 4,
 "nbformat_minor": 5
}
