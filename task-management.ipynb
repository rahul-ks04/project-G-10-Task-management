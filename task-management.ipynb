{
 "cells": [
  {
   "cell_type": "markdown",
   "id": "e7ca28e3",
   "metadata": {},
   "source": "AI POWERED TASK MANAGEMENT"
  },
  {
   "cell_type": "code",
   "id": "ee4f0bcb",
   "metadata": {
    "ExecuteTime": {
     "end_time": "2025-07-25T12:45:42.010190Z",
     "start_time": "2025-07-25T12:45:33.931629Z"
    }
   },
   "source": [
    "import pandas as pd\n",
    "import numpy as np\n",
    "import matplotlib.pyplot as plt\n",
    "import nltk\n",
    "from nltk.corpus import stopwords\n",
    "from nltk.stem import WordNetLemmatizer\n",
    "import re\n",
    "import string\n",
    "\n",
    "from sklearn.feature_extraction.text import TfidfVectorizer\n",
    "from sklearn.model_selection import train_test_split\n",
    "from sklearn.naive_bayes import MultinomialNB\n",
    "from sklearn.svm import SVC\n",
    "from sklearn.metrics import accuracy_score, precision_score, recall_score,f1_score, classification_report\n",
    "import matplotlib.pyplot as plt\n",
    "import seaborn as sns\n",
    "\n",
    "from sklearn.model_selection import train_test_split, GridSearchCV\n",
    "from sklearn.ensemble import RandomForestClassifier\n",
    "import xgboost as xgb\n",
    "from sklearn.metrics import accuracy_score, precision_score, recall_score, f1_score, classification_report\n",
    "# For workload balancing (conceptual, will be implemented heuristically initially)\n",
    "# from collections import defaultdict\n"
   ],
   "outputs": [],
   "execution_count": 4
  },
  {
   "cell_type": "code",
   "id": "6d0ddbc4",
   "metadata": {
    "ExecuteTime": {
     "end_time": "2025-07-23T13:11:51.980631Z",
     "start_time": "2025-07-23T13:11:51.971720Z"
    }
   },
   "source": [
    "# Download NLTK assets (only run once). Comment the code after running\n",
    "nltk.download('stopwords')\n",
    "nltk.download('punkt')\n",
    "nltk.download('punkt_tab')\n",
    "nltk.download('wordnet')"
   ],
   "outputs": [
    {
     "name": "stderr",
     "output_type": "stream",
     "text": [
      "[nltk_data] Downloading package stopwords to\n",
      "[nltk_data]     C:\\Users\\priya\\AppData\\Roaming\\nltk_data...\n",
      "[nltk_data]   Package stopwords is already up-to-date!\n",
      "[nltk_data] Downloading package punkt to\n",
      "[nltk_data]     C:\\Users\\priya\\AppData\\Roaming\\nltk_data...\n",
      "[nltk_data]   Package punkt is already up-to-date!\n",
      "[nltk_data] Downloading package punkt_tab to\n",
      "[nltk_data]     C:\\Users\\priya\\AppData\\Roaming\\nltk_data...\n",
      "[nltk_data]   Package punkt_tab is already up-to-date!\n",
      "[nltk_data] Downloading package wordnet to\n",
      "[nltk_data]     C:\\Users\\priya\\AppData\\Roaming\\nltk_data...\n",
      "[nltk_data]   Package wordnet is already up-to-date!\n"
     ]
    },
    {
     "data": {
      "text/plain": [
       "True"
      ]
     },
     "execution_count": 28,
     "metadata": {},
     "output_type": "execute_result"
    }
   ],
   "execution_count": 28
  },
  {
   "cell_type": "code",
   "id": "a150bf22",
   "metadata": {
    "ExecuteTime": {
     "end_time": "2025-07-23T13:11:52.071625Z",
     "start_time": "2025-07-23T13:11:52.038904Z"
    }
   },
   "source": [
    "df = pd.read_csv(\"synthetic_task_dataset.csv\",index_col=0)\n",
    "df.head()"
   ],
   "outputs": [
    {
     "data": {
      "text/plain": [
       "                                          task_description creation_date  \\\n",
       "task_id                                                                    \n",
       "1               Schedule interviews for Software Engineer.    2025-04-22   \n",
       "2                         Plan team-building event for Q4.    2025-01-25   \n",
       "3                     Optimize encryption for performance.    2025-04-05   \n",
       "4        Update knowledge base article on troubleshooti...    2025-03-10   \n",
       "5              Update employee records for address change.    2025-03-25   \n",
       "\n",
       "           due_date priority task_category assigned_to  \\\n",
       "task_id                                                  \n",
       "1        2025-04-28     High            HR        Noah   \n",
       "2        2025-01-29     High            HR        Noah   \n",
       "3        2025-04-24   Medium   Development       Oscar   \n",
       "4        2025-03-22      Low       Support       Felix   \n",
       "5        2025-03-30   Medium            HR       Emily   \n",
       "\n",
       "         estimated_effort_hours user_preferred_categories  \\\n",
       "task_id                                                     \n",
       "1                            12              HR, Research   \n",
       "2                             4              HR, Research   \n",
       "3                             7               Development   \n",
       "4                             7               Development   \n",
       "5                             8             HR, Marketing   \n",
       "\n",
       "         user_past_completion_time_avg_hours  user_current_workload  \n",
       "task_id                                                              \n",
       "1                                   9.400249                      3  \n",
       "2                                   9.400249                      3  \n",
       "3                                   5.266582                      8  \n",
       "4                                   6.326326                      5  \n",
       "5                                   6.308737                      5  "
      ],
      "text/html": [
       "<div>\n",
       "<style scoped>\n",
       "    .dataframe tbody tr th:only-of-type {\n",
       "        vertical-align: middle;\n",
       "    }\n",
       "\n",
       "    .dataframe tbody tr th {\n",
       "        vertical-align: top;\n",
       "    }\n",
       "\n",
       "    .dataframe thead th {\n",
       "        text-align: right;\n",
       "    }\n",
       "</style>\n",
       "<table border=\"1\" class=\"dataframe\">\n",
       "  <thead>\n",
       "    <tr style=\"text-align: right;\">\n",
       "      <th></th>\n",
       "      <th>task_description</th>\n",
       "      <th>creation_date</th>\n",
       "      <th>due_date</th>\n",
       "      <th>priority</th>\n",
       "      <th>task_category</th>\n",
       "      <th>assigned_to</th>\n",
       "      <th>estimated_effort_hours</th>\n",
       "      <th>user_preferred_categories</th>\n",
       "      <th>user_past_completion_time_avg_hours</th>\n",
       "      <th>user_current_workload</th>\n",
       "    </tr>\n",
       "    <tr>\n",
       "      <th>task_id</th>\n",
       "      <th></th>\n",
       "      <th></th>\n",
       "      <th></th>\n",
       "      <th></th>\n",
       "      <th></th>\n",
       "      <th></th>\n",
       "      <th></th>\n",
       "      <th></th>\n",
       "      <th></th>\n",
       "      <th></th>\n",
       "    </tr>\n",
       "  </thead>\n",
       "  <tbody>\n",
       "    <tr>\n",
       "      <th>1</th>\n",
       "      <td>Schedule interviews for Software Engineer.</td>\n",
       "      <td>2025-04-22</td>\n",
       "      <td>2025-04-28</td>\n",
       "      <td>High</td>\n",
       "      <td>HR</td>\n",
       "      <td>Noah</td>\n",
       "      <td>12</td>\n",
       "      <td>HR, Research</td>\n",
       "      <td>9.400249</td>\n",
       "      <td>3</td>\n",
       "    </tr>\n",
       "    <tr>\n",
       "      <th>2</th>\n",
       "      <td>Plan team-building event for Q4.</td>\n",
       "      <td>2025-01-25</td>\n",
       "      <td>2025-01-29</td>\n",
       "      <td>High</td>\n",
       "      <td>HR</td>\n",
       "      <td>Noah</td>\n",
       "      <td>4</td>\n",
       "      <td>HR, Research</td>\n",
       "      <td>9.400249</td>\n",
       "      <td>3</td>\n",
       "    </tr>\n",
       "    <tr>\n",
       "      <th>3</th>\n",
       "      <td>Optimize encryption for performance.</td>\n",
       "      <td>2025-04-05</td>\n",
       "      <td>2025-04-24</td>\n",
       "      <td>Medium</td>\n",
       "      <td>Development</td>\n",
       "      <td>Oscar</td>\n",
       "      <td>7</td>\n",
       "      <td>Development</td>\n",
       "      <td>5.266582</td>\n",
       "      <td>8</td>\n",
       "    </tr>\n",
       "    <tr>\n",
       "      <th>4</th>\n",
       "      <td>Update knowledge base article on troubleshooti...</td>\n",
       "      <td>2025-03-10</td>\n",
       "      <td>2025-03-22</td>\n",
       "      <td>Low</td>\n",
       "      <td>Support</td>\n",
       "      <td>Felix</td>\n",
       "      <td>7</td>\n",
       "      <td>Development</td>\n",
       "      <td>6.326326</td>\n",
       "      <td>5</td>\n",
       "    </tr>\n",
       "    <tr>\n",
       "      <th>5</th>\n",
       "      <td>Update employee records for address change.</td>\n",
       "      <td>2025-03-25</td>\n",
       "      <td>2025-03-30</td>\n",
       "      <td>Medium</td>\n",
       "      <td>HR</td>\n",
       "      <td>Emily</td>\n",
       "      <td>8</td>\n",
       "      <td>HR, Marketing</td>\n",
       "      <td>6.308737</td>\n",
       "      <td>5</td>\n",
       "    </tr>\n",
       "  </tbody>\n",
       "</table>\n",
       "</div>"
      ]
     },
     "execution_count": 29,
     "metadata": {},
     "output_type": "execute_result"
    }
   ],
   "execution_count": 29
  },
  {
   "cell_type": "markdown",
   "id": "793d20b4",
   "metadata": {},
   "source": [
    "EDA"
   ]
  },
  {
   "cell_type": "code",
   "id": "6a90ca7c",
   "metadata": {
    "ExecuteTime": {
     "end_time": "2025-07-23T13:11:52.113791Z",
     "start_time": "2025-07-23T13:11:52.105481Z"
    }
   },
   "source": [
    "df.columns"
   ],
   "outputs": [
    {
     "data": {
      "text/plain": [
       "Index(['task_description', 'creation_date', 'due_date', 'priority',\n",
       "       'task_category', 'assigned_to', 'estimated_effort_hours',\n",
       "       'user_preferred_categories', 'user_past_completion_time_avg_hours',\n",
       "       'user_current_workload'],\n",
       "      dtype='object')"
      ]
     },
     "execution_count": 30,
     "metadata": {},
     "output_type": "execute_result"
    }
   ],
   "execution_count": 30
  },
  {
   "cell_type": "code",
   "id": "1846413e",
   "metadata": {
    "ExecuteTime": {
     "end_time": "2025-07-23T13:11:52.157502Z",
     "start_time": "2025-07-23T13:11:52.151550Z"
    }
   },
   "source": [
    "df.drop(columns=['user_past_completion_time_avg_hours'],inplace = True)"
   ],
   "outputs": [],
   "execution_count": 31
  },
  {
   "cell_type": "code",
   "id": "afde714b",
   "metadata": {
    "ExecuteTime": {
     "end_time": "2025-07-23T13:11:52.203821Z",
     "start_time": "2025-07-23T13:11:52.195775Z"
    }
   },
   "source": [
    "df.dtypes"
   ],
   "outputs": [
    {
     "data": {
      "text/plain": [
       "task_description             object\n",
       "creation_date                object\n",
       "due_date                     object\n",
       "priority                     object\n",
       "task_category                object\n",
       "assigned_to                  object\n",
       "estimated_effort_hours        int64\n",
       "user_preferred_categories    object\n",
       "user_current_workload         int64\n",
       "dtype: object"
      ]
     },
     "execution_count": 32,
     "metadata": {},
     "output_type": "execute_result"
    }
   ],
   "execution_count": 32
  },
  {
   "cell_type": "code",
   "id": "15c80083",
   "metadata": {
    "ExecuteTime": {
     "end_time": "2025-07-23T13:11:52.292723Z",
     "start_time": "2025-07-23T13:11:52.281172Z"
    }
   },
   "source": [
    "df['creation_date'] = pd.to_datetime(df['creation_date'])\n",
    "df['due_date'] = pd.to_datetime(df['due_date'])"
   ],
   "outputs": [],
   "execution_count": 33
  },
  {
   "cell_type": "code",
   "id": "2fa38e3e",
   "metadata": {
    "ExecuteTime": {
     "end_time": "2025-07-23T13:11:52.326026Z",
     "start_time": "2025-07-23T13:11:52.316854Z"
    }
   },
   "source": [
    "df.isnull().sum()"
   ],
   "outputs": [
    {
     "data": {
      "text/plain": [
       "task_description               0\n",
       "creation_date                  0\n",
       "due_date                     592\n",
       "priority                       0\n",
       "task_category                  0\n",
       "assigned_to                    0\n",
       "estimated_effort_hours         0\n",
       "user_preferred_categories      0\n",
       "user_current_workload          0\n",
       "dtype: int64"
      ]
     },
     "execution_count": 34,
     "metadata": {},
     "output_type": "execute_result"
    }
   ],
   "execution_count": 34
  },
  {
   "cell_type": "code",
   "id": "be3f3dd6",
   "metadata": {
    "ExecuteTime": {
     "end_time": "2025-07-23T13:11:52.375027Z",
     "start_time": "2025-07-23T13:11:52.366195Z"
    }
   },
   "source": [
    "# Create deadline-based features\n",
    "df['days_until_due'] = (df['due_date'] - df['creation_date']).dt.days\n",
    "df['days_until_due'] = df['days_until_due'].fillna(-1)  # -1 = No due date\n",
    "\n",
    "# Add binary indicator\n",
    "df['has_due_date'] = df['due_date'].notnull().astype(int)"
   ],
   "outputs": [],
   "execution_count": 35
  },
  {
   "cell_type": "code",
   "id": "4fa6139e",
   "metadata": {
    "ExecuteTime": {
     "end_time": "2025-07-23T13:11:52.418747Z",
     "start_time": "2025-07-23T13:11:52.402823Z"
    }
   },
   "source": [
    "df.head()"
   ],
   "outputs": [
    {
     "data": {
      "text/plain": [
       "                                          task_description creation_date  \\\n",
       "task_id                                                                    \n",
       "1               Schedule interviews for Software Engineer.    2025-04-22   \n",
       "2                         Plan team-building event for Q4.    2025-01-25   \n",
       "3                     Optimize encryption for performance.    2025-04-05   \n",
       "4        Update knowledge base article on troubleshooti...    2025-03-10   \n",
       "5              Update employee records for address change.    2025-03-25   \n",
       "\n",
       "          due_date priority task_category assigned_to  estimated_effort_hours  \\\n",
       "task_id                                                                         \n",
       "1       2025-04-28     High            HR        Noah                      12   \n",
       "2       2025-01-29     High            HR        Noah                       4   \n",
       "3       2025-04-24   Medium   Development       Oscar                       7   \n",
       "4       2025-03-22      Low       Support       Felix                       7   \n",
       "5       2025-03-30   Medium            HR       Emily                       8   \n",
       "\n",
       "        user_preferred_categories  user_current_workload  days_until_due  \\\n",
       "task_id                                                                    \n",
       "1                    HR, Research                      3             6.0   \n",
       "2                    HR, Research                      3             4.0   \n",
       "3                     Development                      8            19.0   \n",
       "4                     Development                      5            12.0   \n",
       "5                   HR, Marketing                      5             5.0   \n",
       "\n",
       "         has_due_date  \n",
       "task_id                \n",
       "1                   1  \n",
       "2                   1  \n",
       "3                   1  \n",
       "4                   1  \n",
       "5                   1  "
      ],
      "text/html": [
       "<div>\n",
       "<style scoped>\n",
       "    .dataframe tbody tr th:only-of-type {\n",
       "        vertical-align: middle;\n",
       "    }\n",
       "\n",
       "    .dataframe tbody tr th {\n",
       "        vertical-align: top;\n",
       "    }\n",
       "\n",
       "    .dataframe thead th {\n",
       "        text-align: right;\n",
       "    }\n",
       "</style>\n",
       "<table border=\"1\" class=\"dataframe\">\n",
       "  <thead>\n",
       "    <tr style=\"text-align: right;\">\n",
       "      <th></th>\n",
       "      <th>task_description</th>\n",
       "      <th>creation_date</th>\n",
       "      <th>due_date</th>\n",
       "      <th>priority</th>\n",
       "      <th>task_category</th>\n",
       "      <th>assigned_to</th>\n",
       "      <th>estimated_effort_hours</th>\n",
       "      <th>user_preferred_categories</th>\n",
       "      <th>user_current_workload</th>\n",
       "      <th>days_until_due</th>\n",
       "      <th>has_due_date</th>\n",
       "    </tr>\n",
       "    <tr>\n",
       "      <th>task_id</th>\n",
       "      <th></th>\n",
       "      <th></th>\n",
       "      <th></th>\n",
       "      <th></th>\n",
       "      <th></th>\n",
       "      <th></th>\n",
       "      <th></th>\n",
       "      <th></th>\n",
       "      <th></th>\n",
       "      <th></th>\n",
       "      <th></th>\n",
       "    </tr>\n",
       "  </thead>\n",
       "  <tbody>\n",
       "    <tr>\n",
       "      <th>1</th>\n",
       "      <td>Schedule interviews for Software Engineer.</td>\n",
       "      <td>2025-04-22</td>\n",
       "      <td>2025-04-28</td>\n",
       "      <td>High</td>\n",
       "      <td>HR</td>\n",
       "      <td>Noah</td>\n",
       "      <td>12</td>\n",
       "      <td>HR, Research</td>\n",
       "      <td>3</td>\n",
       "      <td>6.0</td>\n",
       "      <td>1</td>\n",
       "    </tr>\n",
       "    <tr>\n",
       "      <th>2</th>\n",
       "      <td>Plan team-building event for Q4.</td>\n",
       "      <td>2025-01-25</td>\n",
       "      <td>2025-01-29</td>\n",
       "      <td>High</td>\n",
       "      <td>HR</td>\n",
       "      <td>Noah</td>\n",
       "      <td>4</td>\n",
       "      <td>HR, Research</td>\n",
       "      <td>3</td>\n",
       "      <td>4.0</td>\n",
       "      <td>1</td>\n",
       "    </tr>\n",
       "    <tr>\n",
       "      <th>3</th>\n",
       "      <td>Optimize encryption for performance.</td>\n",
       "      <td>2025-04-05</td>\n",
       "      <td>2025-04-24</td>\n",
       "      <td>Medium</td>\n",
       "      <td>Development</td>\n",
       "      <td>Oscar</td>\n",
       "      <td>7</td>\n",
       "      <td>Development</td>\n",
       "      <td>8</td>\n",
       "      <td>19.0</td>\n",
       "      <td>1</td>\n",
       "    </tr>\n",
       "    <tr>\n",
       "      <th>4</th>\n",
       "      <td>Update knowledge base article on troubleshooti...</td>\n",
       "      <td>2025-03-10</td>\n",
       "      <td>2025-03-22</td>\n",
       "      <td>Low</td>\n",
       "      <td>Support</td>\n",
       "      <td>Felix</td>\n",
       "      <td>7</td>\n",
       "      <td>Development</td>\n",
       "      <td>5</td>\n",
       "      <td>12.0</td>\n",
       "      <td>1</td>\n",
       "    </tr>\n",
       "    <tr>\n",
       "      <th>5</th>\n",
       "      <td>Update employee records for address change.</td>\n",
       "      <td>2025-03-25</td>\n",
       "      <td>2025-03-30</td>\n",
       "      <td>Medium</td>\n",
       "      <td>HR</td>\n",
       "      <td>Emily</td>\n",
       "      <td>8</td>\n",
       "      <td>HR, Marketing</td>\n",
       "      <td>5</td>\n",
       "      <td>5.0</td>\n",
       "      <td>1</td>\n",
       "    </tr>\n",
       "  </tbody>\n",
       "</table>\n",
       "</div>"
      ]
     },
     "execution_count": 36,
     "metadata": {},
     "output_type": "execute_result"
    }
   ],
   "execution_count": 36
  },
  {
   "cell_type": "code",
   "id": "8febdddb",
   "metadata": {
    "ExecuteTime": {
     "end_time": "2025-07-23T13:11:52.620493Z",
     "start_time": "2025-07-23T13:11:52.456596Z"
    }
   },
   "source": [
    "# Task Category Count Plot\n",
    "df['task_category'].value_counts().plot(kind='bar', figsize=(10, 4), color='skyblue', title='Task Category Distribution')\n",
    "plt.xlabel('Task Category')\n",
    "plt.ylabel('Count')\n",
    "plt.xticks(rotation=45)\n",
    "plt.grid(axis='y', linestyle='--', alpha=0.7)\n",
    "plt.show()"
   ],
   "outputs": [
    {
     "data": {
      "text/plain": [
       "<Figure size 1000x400 with 1 Axes>"
      ],
      "image/png": "[encoded data removed]"
     },
     "metadata": {},
     "output_type": "display_data"
    }
   ],
   "execution_count": 37
  },
  {
   "cell_type": "code",
   "id": "c2ef2299",
   "metadata": {
    "ExecuteTime": {
     "end_time": "2025-07-23T13:11:52.780985Z",
     "start_time": "2025-07-23T13:11:52.633257Z"
    }
   },
   "source": [
    "\n",
    "# Priority Count Plot\n",
    "df['priority'].value_counts().loc[['Low', 'Medium', 'High', 'Critical']].plot(kind='bar', color='orange', title='Task Priority Distribution')\n",
    "plt.xlabel('Priority')\n",
    "plt.ylabel('Count')\n",
    "plt.grid(axis='y', linestyle='--', alpha=0.7)\n",
    "plt.tight_layout()\n",
    "plt.show()"
   ],
   "outputs": [
    {
     "data": {
      "text/plain": [
       "<Figure size 640x480 with 1 Axes>"
      ],
      "image/png": "[encoded data removed]"
     },
     "metadata": {},
     "output_type": "display_data"
    }
   ],
   "execution_count": 38
  },
  {
   "cell_type": "code",
   "id": "e7f0ef37",
   "metadata": {
    "ExecuteTime": {
     "end_time": "2025-07-23T13:11:52.968746Z",
     "start_time": "2025-07-23T13:11:52.795513Z"
    }
   },
   "source": [
    "# Days Until Due Histogram\n",
    "plt.figure(figsize=(8, 4))\n",
    "plt.hist(df['days_until_due'], bins=30, color='purple', edgecolor='black')\n",
    "plt.title('Days Until Task Due')\n",
    "plt.xlabel('Days Until Due')\n",
    "plt.ylabel('Number of Tasks')\n",
    "plt.grid(axis='y', linestyle='--', alpha=0.7)\n",
    "plt.tight_layout()\n",
    "plt.show()"
   ],
   "outputs": [
    {
     "data": {
      "text/plain": [
       "<Figure size 800x400 with 1 Axes>"
      ],
      "image/png": "[encoded data removed]"
     },
     "metadata": {},
     "output_type": "display_data"
    }
   ],
   "execution_count": 39
  },
  {
   "cell_type": "markdown",
   "id": "e1d2068e",
   "metadata": {},
   "source": [
    "NLP Preprocessing"
   ]
  },
  {
   "cell_type": "code",
   "id": "881b912c",
   "metadata": {
    "ExecuteTime": {
     "end_time": "2025-07-23T13:11:52.998627Z",
     "start_time": "2025-07-23T13:11:52.991545Z"
    }
   },
   "source": [
    "from nltk.stem import PorterStemmer\n",
    "from nltk.tokenize import word_tokenize\n",
    "stop_words = set(stopwords.words('english'))\n",
    "stemmer = PorterStemmer()\n",
    "\n",
    "def preprocess_text(text):\n",
    "    # Lowercase\n",
    "    text = text.lower()\n",
    "    \n",
    "    # Remove punctuation & numbers\n",
    "    text = re.sub(r'\\d+', '', text)\n",
    "    text = text.translate(str.maketrans('', '', string.punctuation))\n",
    "    \n",
    "    # Tokenize\n",
    "    tokens = word_tokenize(text)\n",
    "    \n",
    "    # Remove stopwords and apply stemming\n",
    "    cleaned = [stemmer.stem(word) for word in tokens if word not in stop_words]\n",
    "    \n",
    "    return \" \".join(cleaned)\n",
    "\n"
   ],
   "outputs": [],
   "execution_count": 40
  },
  {
   "cell_type": "code",
   "id": "5b8b812c",
   "metadata": {
    "ExecuteTime": {
     "end_time": "2025-07-23T13:11:53.347140Z",
     "start_time": "2025-07-23T13:11:53.025249Z"
    }
   },
   "source": [
    "df['clean_description'] = df['task_description'].apply(preprocess_text)\n",
    "df[['task_description', 'clean_description']].head()\n"
   ],
   "outputs": [
    {
     "data": {
      "text/plain": [
       "                                          task_description  \\\n",
       "task_id                                                      \n",
       "1               Schedule interviews for Software Engineer.   \n",
       "2                         Plan team-building event for Q4.   \n",
       "3                     Optimize encryption for performance.   \n",
       "4        Update knowledge base article on troubleshooti...   \n",
       "5              Update employee records for address change.   \n",
       "\n",
       "                                    clean_description  \n",
       "task_id                                                \n",
       "1                     schedul interview softwar engin  \n",
       "2                              plan teambuild event q  \n",
       "3                               optim encrypt perform  \n",
       "4        updat knowledg base articl troubleshoot guid  \n",
       "5                  updat employe record address chang  "
      ],
      "text/html": [
       "<div>\n",
       "<style scoped>\n",
       "    .dataframe tbody tr th:only-of-type {\n",
       "        vertical-align: middle;\n",
       "    }\n",
       "\n",
       "    .dataframe tbody tr th {\n",
       "        vertical-align: top;\n",
       "    }\n",
       "\n",
       "    .dataframe thead th {\n",
       "        text-align: right;\n",
       "    }\n",
       "</style>\n",
       "<table border=\"1\" class=\"dataframe\">\n",
       "  <thead>\n",
       "    <tr style=\"text-align: right;\">\n",
       "      <th></th>\n",
       "      <th>task_description</th>\n",
       "      <th>clean_description</th>\n",
       "    </tr>\n",
       "    <tr>\n",
       "      <th>task_id</th>\n",
       "      <th></th>\n",
       "      <th></th>\n",
       "    </tr>\n",
       "  </thead>\n",
       "  <tbody>\n",
       "    <tr>\n",
       "      <th>1</th>\n",
       "      <td>Schedule interviews for Software Engineer.</td>\n",
       "      <td>schedul interview softwar engin</td>\n",
       "    </tr>\n",
       "    <tr>\n",
       "      <th>2</th>\n",
       "      <td>Plan team-building event for Q4.</td>\n",
       "      <td>plan teambuild event q</td>\n",
       "    </tr>\n",
       "    <tr>\n",
       "      <th>3</th>\n",
       "      <td>Optimize encryption for performance.</td>\n",
       "      <td>optim encrypt perform</td>\n",
       "    </tr>\n",
       "    <tr>\n",
       "      <th>4</th>\n",
       "      <td>Update knowledge base article on troubleshooti...</td>\n",
       "      <td>updat knowledg base articl troubleshoot guid</td>\n",
       "    </tr>\n",
       "    <tr>\n",
       "      <th>5</th>\n",
       "      <td>Update employee records for address change.</td>\n",
       "      <td>updat employe record address chang</td>\n",
       "    </tr>\n",
       "  </tbody>\n",
       "</table>\n",
       "</div>"
      ]
     },
     "execution_count": 41,
     "metadata": {},
     "output_type": "execute_result"
    }
   ],
   "execution_count": 41
  },
  {
   "cell_type": "code",
   "id": "61dd07a0",
   "metadata": {
    "ExecuteTime": {
     "end_time": "2025-07-23T13:11:53.420179Z",
     "start_time": "2025-07-23T13:11:53.391019Z"
    }
   },
   "source": [
    "# week - 2\n",
    "if 'df' not in locals() or not all(col in df.columns for col in ['clean_description', 'days_until_due', 'has_due_date']):\n",
    "    print(\"DataFrame 'df' not found or not fully preprocessed. Loading and performing essential preprocessing.\")\n",
    "    df = pd.read_csv(\"synthetic_task_dataset.csv\", index_col=0)\n",
    "    df.drop(columns=['user_past_completion_time_avg_hours'], inplace=True)\n",
    "    df['creation_date'] = pd.to_datetime(df['creation_date'])\n",
    "    df['due_date'] = pd.to_datetime(df['due_date'])\n",
    "    df['days_until_due'] = (df['due_date'] - df['creation_date']).dt.days\n",
    "    df['days_until_due'] = df['days_until_due'].fillna(-1)\n",
    "    df['has_due_date'] = df['due_date'].notnull().astype(int)\n",
    "\n",
    "    stop_words = set(stopwords.words('english'))\n",
    "    stemmer = PorterStemmer()\n",
    "\n",
    "    def preprocess_text(text):\n",
    "        text = text.lower()\n",
    "        text = re.sub(r'\\d+', '', text)\n",
    "        text = text.translate(str.maketrans('', '', string.punctuation))\n",
    "        tokens = word_tokenize(text)\n",
    "        cleaned = [stemmer.stem(word) for word in tokens if word not in stop_words]\n",
    "        return \" \".join(cleaned)\n",
    "\n",
    "    df['clean_description'] = df['task_description'].apply(preprocess_text)\n",
    "    print(\"Essential preprocessing from Week 1 completed.\")\n",
    "else:\n",
    "    print(\"DataFrame 'df' already loaded and preprocessed from Week 1.\")\n",
    "\n",
    "# Display head to confirm\n",
    "df.head()"
   ],
   "outputs": [
    {
     "name": "stdout",
     "output_type": "stream",
     "text": [
      "DataFrame 'df' already loaded and preprocessed from Week 1.\n"
     ]
    },
    {
     "data": {
      "text/plain": [
       "                                          task_description creation_date  \\\n",
       "task_id                                                                    \n",
       "1               Schedule interviews for Software Engineer.    2025-04-22   \n",
       "2                         Plan team-building event for Q4.    2025-01-25   \n",
       "3                     Optimize encryption for performance.    2025-04-05   \n",
       "4        Update knowledge base article on troubleshooti...    2025-03-10   \n",
       "5              Update employee records for address change.    2025-03-25   \n",
       "\n",
       "          due_date priority task_category assigned_to  estimated_effort_hours  \\\n",
       "task_id                                                                         \n",
       "1       2025-04-28     High            HR        Noah                      12   \n",
       "2       2025-01-29     High            HR        Noah                       4   \n",
       "3       2025-04-24   Medium   Development       Oscar                       7   \n",
       "4       2025-03-22      Low       Support       Felix                       7   \n",
       "5       2025-03-30   Medium            HR       Emily                       8   \n",
       "\n",
       "        user_preferred_categories  user_current_workload  days_until_due  \\\n",
       "task_id                                                                    \n",
       "1                    HR, Research                      3             6.0   \n",
       "2                    HR, Research                      3             4.0   \n",
       "3                     Development                      8            19.0   \n",
       "4                     Development                      5            12.0   \n",
       "5                   HR, Marketing                      5             5.0   \n",
       "\n",
       "         has_due_date                             clean_description  \n",
       "task_id                                                              \n",
       "1                   1               schedul interview softwar engin  \n",
       "2                   1                        plan teambuild event q  \n",
       "3                   1                         optim encrypt perform  \n",
       "4                   1  updat knowledg base articl troubleshoot guid  \n",
       "5                   1            updat employe record address chang  "
      ],
      "text/html": [
       "<div>\n",
       "<style scoped>\n",
       "    .dataframe tbody tr th:only-of-type {\n",
       "        vertical-align: middle;\n",
       "    }\n",
       "\n",
       "    .dataframe tbody tr th {\n",
       "        vertical-align: top;\n",
       "    }\n",
       "\n",
       "    .dataframe thead th {\n",
       "        text-align: right;\n",
       "    }\n",
       "</style>\n",
       "<table border=\"1\" class=\"dataframe\">\n",
       "  <thead>\n",
       "    <tr style=\"text-align: right;\">\n",
       "      <th></th>\n",
       "      <th>task_description</th>\n",
       "      <th>creation_date</th>\n",
       "      <th>due_date</th>\n",
       "      <th>priority</th>\n",
       "      <th>task_category</th>\n",
       "      <th>assigned_to</th>\n",
       "      <th>estimated_effort_hours</th>\n",
       "      <th>user_preferred_categories</th>\n",
       "      <th>user_current_workload</th>\n",
       "      <th>days_until_due</th>\n",
       "      <th>has_due_date</th>\n",
       "      <th>clean_description</th>\n",
       "    </tr>\n",
       "    <tr>\n",
       "      <th>task_id</th>\n",
       "      <th></th>\n",
       "      <th></th>\n",
       "      <th></th>\n",
       "      <th></th>\n",
       "      <th></th>\n",
       "      <th></th>\n",
       "      <th></th>\n",
       "      <th></th>\n",
       "      <th></th>\n",
       "      <th></th>\n",
       "      <th></th>\n",
       "      <th></th>\n",
       "    </tr>\n",
       "  </thead>\n",
       "  <tbody>\n",
       "    <tr>\n",
       "      <th>1</th>\n",
       "      <td>Schedule interviews for Software Engineer.</td>\n",
       "      <td>2025-04-22</td>\n",
       "      <td>2025-04-28</td>\n",
       "      <td>High</td>\n",
       "      <td>HR</td>\n",
       "      <td>Noah</td>\n",
       "      <td>12</td>\n",
       "      <td>HR, Research</td>\n",
       "      <td>3</td>\n",
       "      <td>6.0</td>\n",
       "      <td>1</td>\n",
       "      <td>schedul interview softwar engin</td>\n",
       "    </tr>\n",
       "    <tr>\n",
       "      <th>2</th>\n",
       "      <td>Plan team-building event for Q4.</td>\n",
       "      <td>2025-01-25</td>\n",
       "      <td>2025-01-29</td>\n",
       "      <td>High</td>\n",
       "      <td>HR</td>\n",
       "      <td>Noah</td>\n",
       "      <td>4</td>\n",
       "      <td>HR, Research</td>\n",
       "      <td>3</td>\n",
       "      <td>4.0</td>\n",
       "      <td>1</td>\n",
       "      <td>plan teambuild event q</td>\n",
       "    </tr>\n",
       "    <tr>\n",
       "      <th>3</th>\n",
       "      <td>Optimize encryption for performance.</td>\n",
       "      <td>2025-04-05</td>\n",
       "      <td>2025-04-24</td>\n",
       "      <td>Medium</td>\n",
       "      <td>Development</td>\n",
       "      <td>Oscar</td>\n",
       "      <td>7</td>\n",
       "      <td>Development</td>\n",
       "      <td>8</td>\n",
       "      <td>19.0</td>\n",
       "      <td>1</td>\n",
       "      <td>optim encrypt perform</td>\n",
       "    </tr>\n",
       "    <tr>\n",
       "      <th>4</th>\n",
       "      <td>Update knowledge base article on troubleshooti...</td>\n",
       "      <td>2025-03-10</td>\n",
       "      <td>2025-03-22</td>\n",
       "      <td>Low</td>\n",
       "      <td>Support</td>\n",
       "      <td>Felix</td>\n",
       "      <td>7</td>\n",
       "      <td>Development</td>\n",
       "      <td>5</td>\n",
       "      <td>12.0</td>\n",
       "      <td>1</td>\n",
       "      <td>updat knowledg base articl troubleshoot guid</td>\n",
       "    </tr>\n",
       "    <tr>\n",
       "      <th>5</th>\n",
       "      <td>Update employee records for address change.</td>\n",
       "      <td>2025-03-25</td>\n",
       "      <td>2025-03-30</td>\n",
       "      <td>Medium</td>\n",
       "      <td>HR</td>\n",
       "      <td>Emily</td>\n",
       "      <td>8</td>\n",
       "      <td>HR, Marketing</td>\n",
       "      <td>5</td>\n",
       "      <td>5.0</td>\n",
       "      <td>1</td>\n",
       "      <td>updat employe record address chang</td>\n",
       "    </tr>\n",
       "  </tbody>\n",
       "</table>\n",
       "</div>"
      ]
     },
     "execution_count": 42,
     "metadata": {},
     "output_type": "execute_result"
    }
   ],
   "execution_count": 42
  },
  {
   "metadata": {
    "ExecuteTime": {
     "end_time": "2025-07-23T13:11:53.477787Z",
     "start_time": "2025-07-23T13:11:53.456781Z"
    }
   },
   "cell_type": "code",
   "source": [
    "# Cell 3: Prepare Target Variable and Features 🎯\n",
    "\n",
    "# Map priority to numerical labels\n",
    "priority_mapping = {'Low': 0, 'Medium': 1, 'High': 2, 'Critical': 3}\n",
    "df['priority_encoded'] = df['priority'].map(priority_mapping)\n",
    "\n",
    "# Drop rows where priority_encoded might be NaN if original priority had unexpected values\n",
    "df.dropna(subset=['priority_encoded'], inplace=True)\n",
    "df['priority_encoded'] = df['priority_encoded'].astype(int)\n",
    "\n",
    "# --- FIX FOR NEGATIVE VALUES IN MultinomialNB ---\n",
    "# Replace -1 in 'days_until_due' with 0 or another non-negative value for MultinomialNB\n",
    "# MultinomialNB requires non-negative features.\n",
    "df['days_until_due_non_negative'] = df['days_until_due'].apply(lambda x: max(0, x))\n",
    "\n",
    "# Define features (X) and target (y)\n",
    "X_text = df['clean_description']\n",
    "# Use the non-negative version of days_until_due\n",
    "X_numerical = df[['days_until_due_non_negative', 'has_due_date']]\n",
    "y = df['priority_encoded']\n",
    "\n",
    "print(\"Target variable and features prepared.\")\n",
    "print(f\"Unique priority labels: {df['priority'].unique()}\")\n",
    "print(f\"Encoded priority labels: {df['priority_encoded'].unique()}\")"
   ],
   "id": "2fd8529ff148f4c9",
   "outputs": [
    {
     "name": "stdout",
     "output_type": "stream",
     "text": [
      "Target variable and features prepared.\n",
      "Unique priority labels: ['High' 'Medium' 'Low' 'Critical']\n",
      "Encoded priority labels: [2 1 0 3]\n"
     ]
    }
   ],
   "execution_count": 43
  },
  {
   "metadata": {
    "ExecuteTime": {
     "end_time": "2025-07-23T13:11:53.555116Z",
     "start_time": "2025-07-23T13:11:53.520331Z"
    }
   },
   "cell_type": "code",
   "source": [
    "#Feature Extraction using TF-IDF\n",
    "\n",
    "print(\"--- Feature Extraction: TF-IDF ---\")\n",
    "vectorizer = TfidfVectorizer(max_features=1000) # Limit features to avoid too large a sparse matrix\n",
    "X_tfidf = vectorizer.fit_transform(X_text)\n",
    "\n",
    "# Convert TF-IDF sparse matrix to DataFrame for concatenation\n",
    "X_tfidf_df = pd.DataFrame(X_tfidf.toarray(), columns=vectorizer.get_feature_names_out())\n",
    "# Ensure indices align for proper concatenation\n",
    "X_tfidf_df.index = X_numerical.index\n",
    "X_combined = pd.concat([X_tfidf_df, X_numerical], axis=1)\n",
    "\n",
    "print(f\"TF-IDF features shape: {X_tfidf.shape}\")\n",
    "print(f\"Combined features shape: {X_combined.shape}\")\n",
    "print(\"TF-IDF vectorization complete and combined with numerical features.\")"
   ],
   "id": "63461f008be942cf",
   "outputs": [
    {
     "name": "stdout",
     "output_type": "stream",
     "text": [
      "--- Feature Extraction: TF-IDF ---\n",
      "TF-IDF features shape: (3000, 171)\n",
      "Combined features shape: (3000, 173)\n",
      "TF-IDF vectorization complete and combined with numerical features.\n"
     ]
    }
   ],
   "execution_count": 44
  },
  {
   "metadata": {
    "ExecuteTime": {
     "end_time": "2025-07-23T13:11:53.613637Z",
     "start_time": "2025-07-23T13:11:53.597926Z"
    }
   },
   "cell_type": "code",
   "source": [
    "#Train-Test Split\n",
    "\n",
    "print(\"--- Splitting Data into Training and Testing Sets ---\")\n",
    "# Stratify by 'y' to maintain class distribution across splits\n",
    "X_train, X_test, y_train, y_test = train_test_split(X_combined, y, test_size=0.2, random_state=42, stratify=y)\n",
    "\n",
    "print(f\"Training set size: {X_train.shape[0]} samples\")\n",
    "print(f\"Testing set size: {X_test.shape[0]} samples\")\n",
    "print(\"Data split into training and testing sets.\")"
   ],
   "id": "50bd09ba704a3694",
   "outputs": [
    {
     "name": "stdout",
     "output_type": "stream",
     "text": [
      "--- Splitting Data into Training and Testing Sets ---\n",
      "Training set size: 2400 samples\n",
      "Testing set size: 600 samples\n",
      "Data split into training and testing sets.\n"
     ]
    }
   ],
   "execution_count": 45
  },
  {
   "metadata": {
    "ExecuteTime": {
     "end_time": "2025-07-23T13:11:53.690628Z",
     "start_time": "2025-07-23T13:11:53.640855Z"
    }
   },
   "cell_type": "code",
   "source": [
    "#Implement and Evaluate Naive Bayes Classifier\n",
    "\n",
    "print(\"--- Training Naive Bayes Classifier ---\")\n",
    "nb_model = MultinomialNB()\n",
    "nb_model.fit(X_train, y_train)\n",
    "print(\"Naive Bayes model trained.\")\n",
    "\n",
    "print(\"\\n--- Evaluating Naive Bayes Classifier ---\")\n",
    "y_pred_nb = nb_model.predict(X_test)\n",
    "\n",
    "print(\"Naive Bayes Metrics:\")\n",
    "print(f\"Accuracy: {accuracy_score(y_test, y_pred_nb):.4f}\")\n",
    "print(f\"Precision (macro): {precision_score(y_test, y_pred_nb, average='macro', zero_division=0):.4f}\")\n",
    "print(f\"Recall (macro): {recall_score(y_test, y_pred_nb, average='macro', zero_division=0):.4f}\")\n",
    "print(f\"F1-Score (macro): {f1_score(y_test, y_pred_nb, average='macro', zero_division=0):.4f}\")\n",
    "# Use a custom target_names list for the classification report if priority_mapping.keys() isn't directly ordered\n",
    "target_names_list = sorted(priority_mapping, key=priority_mapping.get)\n",
    "print(\"\\nClassification Report (Naive Bayes):\\n\", classification_report(y_test, y_pred_nb, target_names=target_names_list, zero_division=0))\n"
   ],
   "id": "78daa4ddf2c3bddd",
   "outputs": [
    {
     "name": "stdout",
     "output_type": "stream",
     "text": [
      "--- Training Naive Bayes Classifier ---\n",
      "Naive Bayes model trained.\n",
      "\n",
      "--- Evaluating Naive Bayes Classifier ---\n",
      "Naive Bayes Metrics:\n",
      "Accuracy: 0.2483\n",
      "Precision (macro): 0.2455\n",
      "Recall (macro): 0.2472\n",
      "F1-Score (macro): 0.2420\n",
      "\n",
      "Classification Report (Naive Bayes):\n",
      "               precision    recall  f1-score   support\n",
      "\n",
      "         Low       0.26      0.33      0.30       147\n",
      "      Medium       0.24      0.16      0.19       144\n",
      "        High       0.23      0.19      0.20       151\n",
      "    Critical       0.25      0.31      0.28       158\n",
      "\n",
      "    accuracy                           0.25       600\n",
      "   macro avg       0.25      0.25      0.24       600\n",
      "weighted avg       0.25      0.25      0.24       600\n",
      "\n"
     ]
    }
   ],
   "execution_count": 46
  },
  {
   "metadata": {
    "ExecuteTime": {
     "end_time": "2025-07-23T13:12:34.708088Z",
     "start_time": "2025-07-23T13:12:33.646981Z"
    }
   },
   "cell_type": "code",
   "source": [
    "#Implement and Evaluate SVM Classifier\n",
    "\n",
    "print(\"--- Training Support Vector Machine (SVM) Classifier ---\")\n",
    "svm_model = SVC(kernel='linear', random_state=42) # 'linear' kernel often works well with TF-IDF\n",
    "svm_model.fit(X_train, y_train)\n",
    "print(\"SVM model trained.\")\n",
    "\n",
    "print(\"\\n--- Evaluating SVM Classifier ---\")\n",
    "y_pred_svm = svm_model.predict(X_test)\n",
    "\n",
    "print(\"SVM Metrics:\")\n",
    "print(f\"Accuracy: {accuracy_score(y_test, y_pred_svm):.4f}\")\n",
    "print(f\"Precision (macro): {precision_score(y_test, y_pred_svm, average='macro', zero_division=0):.4f}\")\n",
    "print(f\"Recall (macro): {recall_score(y_test, y_pred_svm, average='macro', zero_division=0):.4f}\")\n",
    "print(f\"F1-Score (macro): {f1_score(y_test, y_pred_svm, average='macro', zero_division=0):.4f}\")\n",
    "# Use the same target_names list for consistency\n",
    "print(\"\\nClassification Report (SVM):\\n\", classification_report(y_test, y_pred_svm, target_names=target_names_list, zero_division=0))"
   ],
   "id": "b6cda98ad79f2eb3",
   "outputs": [
    {
     "name": "stdout",
     "output_type": "stream",
     "text": [
      "--- Training Support Vector Machine (SVM) Classifier ---\n",
      "SVM model trained.\n",
      "\n",
      "--- Evaluating SVM Classifier ---\n",
      "SVM Metrics:\n",
      "Accuracy: 0.2500\n",
      "Precision (macro): 0.2481\n",
      "Recall (macro): 0.2494\n",
      "F1-Score (macro): 0.2470\n",
      "\n",
      "Classification Report (SVM):\n",
      "               precision    recall  f1-score   support\n",
      "\n",
      "         Low       0.27      0.31      0.29       147\n",
      "      Medium       0.23      0.22      0.22       144\n",
      "        High       0.23      0.18      0.20       151\n",
      "    Critical       0.25      0.30      0.27       158\n",
      "\n",
      "    accuracy                           0.25       600\n",
      "   macro avg       0.25      0.25      0.25       600\n",
      "weighted avg       0.25      0.25      0.25       600\n",
      "\n"
     ]
    }
   ],
   "execution_count": 47
  },
  {
   "metadata": {
    "ExecuteTime": {
     "end_time": "2025-07-23T13:13:05.990720Z",
     "start_time": "2025-07-23T13:13:05.981575Z"
    }
   },
   "cell_type": "code",
   "source": [
    "#Word Embeddings (Conceptual Placeholder)\n",
    "\n",
    "print(\"\\n--- Feature Extraction: Word Embeddings (Conceptual Placeholder) ---\")\n",
    "print(\"Implementing Word2Vec or BERT requires additional steps:\")\n",
    "print(\"1. **Installation:** `pip install gensim` (for Word2Vec) or `pip install transformers` (for BERT).\")\n",
    "print(\"2. **Model Loading/Training:** Download pre-trained models (e.g., from `gensim.downloader` or Hugging Face `transformers`).\")\n",
    "print(\"3. **Embedding Generation:** Convert 'clean_description' text into numerical vector embeddings using the loaded model.\")\n",
    "print(\"   - For Word2Vec: Average word vectors in a sentence.\")\n",
    "print(\"   - For BERT: Extract [CLS] token embeddings or mean-pool token embeddings.\")\n",
    "print(\"4. **Integration:** Replace or combine these embeddings with your existing numerical features before training classifiers.\")\n",
    "print(\"\\nThis is a more advanced step for potentially higher model performance.\")"
   ],
   "id": "2b8f1919a96c7490",
   "outputs": [
    {
     "name": "stdout",
     "output_type": "stream",
     "text": [
      "\n",
      "--- Feature Extraction: Word Embeddings (Conceptual Placeholder) ---\n",
      "Implementing Word2Vec or BERT requires additional steps:\n",
      "1. **Installation:** `pip install gensim` (for Word2Vec) or `pip install transformers` (for BERT).\n",
      "2. **Model Loading/Training:** Download pre-trained models (e.g., from `gensim.downloader` or Hugging Face `transformers`).\n",
      "3. **Embedding Generation:** Convert 'clean_description' text into numerical vector embeddings using the loaded model.\n",
      "   - For Word2Vec: Average word vectors in a sentence.\n",
      "   - For BERT: Extract [CLS] token embeddings or mean-pool token embeddings.\n",
      "4. **Integration:** Replace or combine these embeddings with your existing numerical features before training classifiers.\n",
      "\n",
      "This is a more advanced step for potentially higher model performance.\n"
     ]
    }
   ],
   "execution_count": 48
  },
  {
   "metadata": {},
   "cell_type": "markdown",
   "source": "Week 3",
   "id": "ea298f0dc81769a9"
  },
  {
   "metadata": {
    "ExecuteTime": {
     "end_time": "2025-07-25T12:48:35.166227Z",
     "start_time": "2025-07-25T12:48:34.662123Z"
    }
   },
   "cell_type": "code",
   "source": [
    "# Check if df from Week 1 is already in memory and preprocessed\n",
    "# If not, load and perform essential preprocessing from Week 1 for a runnable script\n",
    "\n",
    "if 'df' not in locals() or not all(col in df.columns for col in ['clean_description', 'days_until_due', 'has_due_date']):\n",
    "    print(\"DataFrame 'df' not found or not fully preprocessed. Loading and performing essential preprocessing.\")\n",
    "    df = pd.read_csv(\"synthetic_task_dataset.csv\", index_col=0)\n",
    "    df.drop(columns=['user_past_completion_time_avg_hours'], inplace=True)\n",
    "    df['creation_date'] = pd.to_datetime(df['creation_date'])\n",
    "    df['due_date'] = pd.to_datetime(df['due_date'])\n",
    "    df['days_until_due'] = (df['due_date'] - df['creation_date']).dt.days\n",
    "    df['days_until_due'] = df['days_until_due'].fillna(-1)\n",
    "    df['has_due_date'] = df['due_date'].notnull().astype(int)\n",
    "\n",
    "    # --- Re-including essential NLP preprocessing from Week 1 ---\n",
    "    import re\n",
    "    import string\n",
    "    from nltk.corpus import stopwords\n",
    "    from nltk.stem import PorterStemmer\n",
    "    from nltk.tokenize import word_tokenize\n",
    "\n",
    "    # Ensure NLTK assets are downloaded (run once, then comment out)\n",
    "    # import nltk\n",
    "    # nltk.download('stopwords')\n",
    "    # nltk.download('punkt')\n",
    "    # nltk.download('punkt_tab')\n",
    "    # import nltk\n",
    "    # nltk.download('wordnet')\n",
    "\n",
    "    stop_words = set(stopwords.words('english'))\n",
    "    stemmer = PorterStemmer()\n",
    "\n",
    "    def preprocess_text(text):\n",
    "        text = text.lower()\n",
    "        text = re.sub(r'\\d+', '', text)\n",
    "        text = text.translate(str.maketrans('', '', string.punctuation))\n",
    "        tokens = word_tokenize(text)\n",
    "        cleaned = [stemmer.stem(word) for word in tokens if word not in stop_words]\n",
    "        return \" \".join(cleaned)\n",
    "\n",
    "    df['clean_description'] = df['task_description'].apply(preprocess_text)\n",
    "    print(\"Essential preprocessing from Week 1 completed.\")\n",
    "else:\n",
    "    print(\"DataFrame 'df' already loaded and preprocessed from Week 1.\")\n",
    "\n",
    "# Map priority to numerical labels (re-run to be safe or if kernel restarted)\n",
    "priority_mapping = {'Low': 0, 'Medium': 1, 'High': 2, 'Critical': 3}\n",
    "df['priority_encoded'] = df['priority'].map(priority_mapping)\n",
    "df.dropna(subset=['priority_encoded'], inplace=True)\n",
    "df['priority_encoded'] = df['priority_encoded'].astype(int)\n",
    "\n",
    "# --- Ensure non-negative feature for compatibility with Naive Bayes if needed later ---\n",
    "df['days_until_due_non_negative'] = df['days_until_due'].apply(lambda x: max(0, x))\n",
    "\n",
    "# Display head to confirm\n",
    "df.head()"
   ],
   "id": "8aaf9f4fc9683436",
   "outputs": [
    {
     "name": "stdout",
     "output_type": "stream",
     "text": [
      "DataFrame 'df' not found or not fully preprocessed. Loading and performing essential preprocessing.\n",
      "Essential preprocessing from Week 1 completed.\n"
     ]
    },
    {
     "data": {
      "text/plain": [
       "                                          task_description creation_date  \\\n",
       "task_id                                                                    \n",
       "1               Schedule interviews for Software Engineer.    2025-04-22   \n",
       "2                         Plan team-building event for Q4.    2025-01-25   \n",
       "3                     Optimize encryption for performance.    2025-04-05   \n",
       "4        Update knowledge base article on troubleshooti...    2025-03-10   \n",
       "5              Update employee records for address change.    2025-03-25   \n",
       "\n",
       "          due_date priority task_category assigned_to  estimated_effort_hours  \\\n",
       "task_id                                                                         \n",
       "1       2025-04-28     High            HR        Noah                      12   \n",
       "2       2025-01-29     High            HR        Noah                       4   \n",
       "3       2025-04-24   Medium   Development       Oscar                       7   \n",
       "4       2025-03-22      Low       Support       Felix                       7   \n",
       "5       2025-03-30   Medium            HR       Emily                       8   \n",
       "\n",
       "        user_preferred_categories  user_current_workload  days_until_due  \\\n",
       "task_id                                                                    \n",
       "1                    HR, Research                      3             6.0   \n",
       "2                    HR, Research                      3             4.0   \n",
       "3                     Development                      8            19.0   \n",
       "4                     Development                      5            12.0   \n",
       "5                   HR, Marketing                      5             5.0   \n",
       "\n",
       "         has_due_date                             clean_description  \\\n",
       "task_id                                                               \n",
       "1                   1               schedul interview softwar engin   \n",
       "2                   1                        plan teambuild event q   \n",
       "3                   1                         optim encrypt perform   \n",
       "4                   1  updat knowledg base articl troubleshoot guid   \n",
       "5                   1            updat employe record address chang   \n",
       "\n",
       "         priority_encoded  days_until_due_non_negative  \n",
       "task_id                                                 \n",
       "1                       2                          6.0  \n",
       "2                       2                          4.0  \n",
       "3                       1                         19.0  \n",
       "4                       0                         12.0  \n",
       "5                       1                          5.0  "
      ],
      "text/html": [
       "<div>\n",
       "<style scoped>\n",
       "    .dataframe tbody tr th:only-of-type {\n",
       "        vertical-align: middle;\n",
       "    }\n",
       "\n",
       "    .dataframe tbody tr th {\n",
       "        vertical-align: top;\n",
       "    }\n",
       "\n",
       "    .dataframe thead th {\n",
       "        text-align: right;\n",
       "    }\n",
       "</style>\n",
       "<table border=\"1\" class=\"dataframe\">\n",
       "  <thead>\n",
       "    <tr style=\"text-align: right;\">\n",
       "      <th></th>\n",
       "      <th>task_description</th>\n",
       "      <th>creation_date</th>\n",
       "      <th>due_date</th>\n",
       "      <th>priority</th>\n",
       "      <th>task_category</th>\n",
       "      <th>assigned_to</th>\n",
       "      <th>estimated_effort_hours</th>\n",
       "      <th>user_preferred_categories</th>\n",
       "      <th>user_current_workload</th>\n",
       "      <th>days_until_due</th>\n",
       "      <th>has_due_date</th>\n",
       "      <th>clean_description</th>\n",
       "      <th>priority_encoded</th>\n",
       "      <th>days_until_due_non_negative</th>\n",
       "    </tr>\n",
       "    <tr>\n",
       "      <th>task_id</th>\n",
       "      <th></th>\n",
       "      <th></th>\n",
       "      <th></th>\n",
       "      <th></th>\n",
       "      <th></th>\n",
       "      <th></th>\n",
       "      <th></th>\n",
       "      <th></th>\n",
       "      <th></th>\n",
       "      <th></th>\n",
       "      <th></th>\n",
       "      <th></th>\n",
       "      <th></th>\n",
       "      <th></th>\n",
       "    </tr>\n",
       "  </thead>\n",
       "  <tbody>\n",
       "    <tr>\n",
       "      <th>1</th>\n",
       "      <td>Schedule interviews for Software Engineer.</td>\n",
       "      <td>2025-04-22</td>\n",
       "      <td>2025-04-28</td>\n",
       "      <td>High</td>\n",
       "      <td>HR</td>\n",
       "      <td>Noah</td>\n",
       "      <td>12</td>\n",
       "      <td>HR, Research</td>\n",
       "      <td>3</td>\n",
       "      <td>6.0</td>\n",
       "      <td>1</td>\n",
       "      <td>schedul interview softwar engin</td>\n",
       "      <td>2</td>\n",
       "      <td>6.0</td>\n",
       "    </tr>\n",
       "    <tr>\n",
       "      <th>2</th>\n",
       "      <td>Plan team-building event for Q4.</td>\n",
       "      <td>2025-01-25</td>\n",
       "      <td>2025-01-29</td>\n",
       "      <td>High</td>\n",
       "      <td>HR</td>\n",
       "      <td>Noah</td>\n",
       "      <td>4</td>\n",
       "      <td>HR, Research</td>\n",
       "      <td>3</td>\n",
       "      <td>4.0</td>\n",
       "      <td>1</td>\n",
       "      <td>plan teambuild event q</td>\n",
       "      <td>2</td>\n",
       "      <td>4.0</td>\n",
       "    </tr>\n",
       "    <tr>\n",
       "      <th>3</th>\n",
       "      <td>Optimize encryption for performance.</td>\n",
       "      <td>2025-04-05</td>\n",
       "      <td>2025-04-24</td>\n",
       "      <td>Medium</td>\n",
       "      <td>Development</td>\n",
       "      <td>Oscar</td>\n",
       "      <td>7</td>\n",
       "      <td>Development</td>\n",
       "      <td>8</td>\n",
       "      <td>19.0</td>\n",
       "      <td>1</td>\n",
       "      <td>optim encrypt perform</td>\n",
       "      <td>1</td>\n",
       "      <td>19.0</td>\n",
       "    </tr>\n",
       "    <tr>\n",
       "      <th>4</th>\n",
       "      <td>Update knowledge base article on troubleshooti...</td>\n",
       "      <td>2025-03-10</td>\n",
       "      <td>2025-03-22</td>\n",
       "      <td>Low</td>\n",
       "      <td>Support</td>\n",
       "      <td>Felix</td>\n",
       "      <td>7</td>\n",
       "      <td>Development</td>\n",
       "      <td>5</td>\n",
       "      <td>12.0</td>\n",
       "      <td>1</td>\n",
       "      <td>updat knowledg base articl troubleshoot guid</td>\n",
       "      <td>0</td>\n",
       "      <td>12.0</td>\n",
       "    </tr>\n",
       "    <tr>\n",
       "      <th>5</th>\n",
       "      <td>Update employee records for address change.</td>\n",
       "      <td>2025-03-25</td>\n",
       "      <td>2025-03-30</td>\n",
       "      <td>Medium</td>\n",
       "      <td>HR</td>\n",
       "      <td>Emily</td>\n",
       "      <td>8</td>\n",
       "      <td>HR, Marketing</td>\n",
       "      <td>5</td>\n",
       "      <td>5.0</td>\n",
       "      <td>1</td>\n",
       "      <td>updat employe record address chang</td>\n",
       "      <td>1</td>\n",
       "      <td>5.0</td>\n",
       "    </tr>\n",
       "  </tbody>\n",
       "</table>\n",
       "</div>"
      ]
     },
     "execution_count": 5,
     "metadata": {},
     "output_type": "execute_result"
    }
   ],
   "execution_count": 5
  },
  {
   "metadata": {},
   "cell_type": "markdown",
   "source": "Feature Extraction (TF-IDF) and Train-Test Split",
   "id": "ac3c91bcfde5204"
  },
  {
   "metadata": {
    "ExecuteTime": {
     "end_time": "2025-07-25T12:49:58.041557Z",
     "start_time": "2025-07-25T12:49:57.968647Z"
    }
   },
   "cell_type": "code",
   "source": [
    "from sklearn.feature_extraction.text import TfidfVectorizer\n",
    "\n",
    "print(\"--- Feature Extraction: TF-IDF ---\")\n",
    "vectorizer = TfidfVectorizer(max_features=1000)\n",
    "X_tfidf = vectorizer.fit_transform(df['clean_description'])\n",
    "\n",
    "X_tfidf_df = pd.DataFrame(X_tfidf.toarray(), columns=vectorizer.get_feature_names_out())\n",
    "X_tfidf_df.index = df.index # Align indices with original df\n",
    "\n",
    "# Combine TF-IDF features with numerical features\n",
    "X_numerical = df[['days_until_due_non_negative', 'has_due_date']]\n",
    "X_combined = pd.concat([X_tfidf_df, X_numerical], axis=1)\n",
    "\n",
    "y = df['priority_encoded']\n",
    "\n",
    "print(f\"Combined features shape: {X_combined.shape}\")\n",
    "print(f\"Target variable shape: {y.shape}\")\n",
    "\n",
    "print(\"\\n--- Splitting Data into Training and Testing Sets ---\")\n",
    "X_train, X_test, y_train, y_test = train_test_split(X_combined, y, test_size=0.2, random_state=42, stratify=y)\n",
    "\n",
    "print(f\"Training set size: {X_train.shape[0]} samples\")\n",
    "print(f\"Testing set size: {X_test.shape[0]} samples\")\n",
    "print(\"Data split into training and testing sets.\")"
   ],
   "id": "db5745e8a0b826b0",
   "outputs": [
    {
     "name": "stdout",
     "output_type": "stream",
     "text": [
      "--- Feature Extraction: TF-IDF ---\n",
      "Combined features shape: (3000, 173)\n",
      "Target variable shape: (3000,)\n",
      "\n",
      "--- Splitting Data into Training and Testing Sets ---\n",
      "Training set size: 2400 samples\n",
      "Testing set size: 600 samples\n",
      "Data split into training and testing sets.\n"
     ]
    }
   ],
   "execution_count": 6
  },
  {
   "metadata": {},
   "cell_type": "markdown",
   "source": "Implement Priority Prediction Model using Random Forest",
   "id": "82f2d3d971ef11c8"
  },
  {
   "metadata": {
    "ExecuteTime": {
     "end_time": "2025-07-25T12:50:24.130480Z",
     "start_time": "2025-07-25T12:50:22.883550Z"
    }
   },
   "cell_type": "code",
   "source": [
    "print(\"\\n--- Training Random Forest Classifier ---\")\n",
    "rf_model = RandomForestClassifier(random_state=42)\n",
    "rf_model.fit(X_train, y_train)\n",
    "print(\"Random Forest model trained.\")\n",
    "\n",
    "print(\"\\n--- Evaluating Random Forest Classifier ---\")\n",
    "y_pred_rf = rf_model.predict(X_test)\n",
    "\n",
    "print(\"Random Forest Metrics:\")\n",
    "print(f\"Accuracy: {accuracy_score(y_test, y_pred_rf):.4f}\")\n",
    "print(f\"Precision (macro): {precision_score(y_test, y_pred_rf, average='macro', zero_division=0):.4f}\")\n",
    "print(f\"Recall (macro): {recall_score(y_test, y_pred_rf, average='macro', zero_division=0):.4f}\")\n",
    "print(f\"F1-Score (macro): {f1_score(y_test, y_pred_rf, average='macro', zero_division=0):.4f}\")\n",
    "target_names_list = sorted(priority_mapping, key=priority_mapping.get) # Ensure correct order\n",
    "print(\"\\nClassification Report (Random Forest):\\n\", classification_report(y_test, y_pred_rf, target_names=target_names_list, zero_division=0))"
   ],
   "id": "3aa860df63396491",
   "outputs": [
    {
     "name": "stdout",
     "output_type": "stream",
     "text": [
      "\n",
      "--- Training Random Forest Classifier ---\n",
      "Random Forest model trained.\n",
      "\n",
      "--- Evaluating Random Forest Classifier ---\n",
      "Random Forest Metrics:\n",
      "Accuracy: 0.2450\n",
      "Precision (macro): 0.2436\n",
      "Recall (macro): 0.2446\n",
      "F1-Score (macro): 0.2438\n",
      "\n",
      "Classification Report (Random Forest):\n",
      "               precision    recall  f1-score   support\n",
      "\n",
      "         Low       0.21      0.21      0.21       147\n",
      "      Medium       0.25      0.28      0.26       144\n",
      "        High       0.22      0.20      0.21       151\n",
      "    Critical       0.29      0.29      0.29       158\n",
      "\n",
      "    accuracy                           0.24       600\n",
      "   macro avg       0.24      0.24      0.24       600\n",
      "weighted avg       0.24      0.24      0.24       600\n",
      "\n"
     ]
    }
   ],
   "execution_count": 7
  },
  {
   "metadata": {},
   "cell_type": "markdown",
   "source": "Implement Priority Prediction Model using XGBoost",
   "id": "c740b78e8818e534"
  },
  {
   "metadata": {
    "ExecuteTime": {
     "end_time": "2025-07-25T12:51:10.816598Z",
     "start_time": "2025-07-25T12:51:10.142707Z"
    }
   },
   "cell_type": "code",
   "source": [
    "print(\"\\n--- Training XGBoost Classifier ---\")\n",
    "# XGBoost requires numerical labels for multiclass classification, which we already have.\n",
    "# Use 'objective': 'multi:softmax' for multi-class classification\n",
    "# num_class is the number of unique classes in your target variable\n",
    "xgb_model = xgb.XGBClassifier(objective='multi:softmax', num_class=len(priority_mapping),\n",
    "                              eval_metric='mlogloss', use_label_encoder=False, random_state=42)\n",
    "xgb_model.fit(X_train, y_train)\n",
    "print(\"XGBoost model trained.\")\n",
    "\n",
    "print(\"\\n--- Evaluating XGBoost Classifier ---\")\n",
    "y_pred_xgb = xgb_model.predict(X_test)\n",
    "\n",
    "print(\"XGBoost Metrics:\")\n",
    "print(f\"Accuracy: {accuracy_score(y_test, y_pred_xgb):.4f}\")\n",
    "print(f\"Precision (macro): {precision_score(y_test, y_pred_xgb, average='macro', zero_division=0):.4f}\")\n",
    "print(f\"Recall (macro): {recall_score(y_test, y_pred_xgb, average='macro', zero_division=0):.4f}\")\n",
    "print(f\"F1-Score (macro): {f1_score(y_test, y_pred_xgb, average='macro', zero_division=0):.4f}\")\n",
    "print(\"\\nClassification Report (XGBoost):\\n\", classification_report(y_test, y_pred_xgb, target_names=target_names_list, zero_division=0))"
   ],
   "id": "e0d8de9b1f43a08b",
   "outputs": [
    {
     "name": "stdout",
     "output_type": "stream",
     "text": [
      "\n",
      "--- Training XGBoost Classifier ---\n"
     ]
    },
    {
     "name": "stderr",
     "output_type": "stream",
     "text": [
      "C:\\Users\\priya\\AppData\\Local\\Programs\\Python\\Python313\\Lib\\site-packages\\xgboost\\training.py:183: UserWarning: [18:21:10] WARNING: C:\\actions-runner\\_work\\xgboost\\xgboost\\src\\learner.cc:738: \n",
      "Parameters: { \"use_label_encoder\" } are not used.\n",
      "\n",
      "  bst.update(dtrain, iteration=i, fobj=obj)\n"
     ]
    },
    {
     "name": "stdout",
     "output_type": "stream",
     "text": [
      "XGBoost model trained.\n",
      "\n",
      "--- Evaluating XGBoost Classifier ---\n",
      "XGBoost Metrics:\n",
      "Accuracy: 0.2350\n",
      "Precision (macro): 0.2341\n",
      "Recall (macro): 0.2341\n",
      "F1-Score (macro): 0.2337\n",
      "\n",
      "Classification Report (XGBoost):\n",
      "               precision    recall  f1-score   support\n",
      "\n",
      "         Low       0.21      0.20      0.21       147\n",
      "      Medium       0.24      0.22      0.23       144\n",
      "        High       0.23      0.23      0.23       151\n",
      "    Critical       0.25      0.28      0.27       158\n",
      "\n",
      "    accuracy                           0.23       600\n",
      "   macro avg       0.23      0.23      0.23       600\n",
      "weighted avg       0.23      0.23      0.23       600\n",
      "\n"
     ]
    }
   ],
   "execution_count": 8
  },
  {
   "metadata": {},
   "cell_type": "markdown",
   "source": "Apply GridSearchCV for Hyperparameter Tuning (Random Forest Example)",
   "id": "a644c274ea69e636"
  },
  {
   "metadata": {
    "ExecuteTime": {
     "end_time": "2025-07-25T13:00:23.066268Z",
     "start_time": "2025-07-25T12:59:52.921417Z"
    }
   },
   "cell_type": "code",
   "source": [
    "print(\"\\n--- Hyperparameter Tuning: GridSearchCV for Random Forest ---\")\n",
    "\n",
    "# Define the parameter grid to search\n",
    "# Start with a smaller grid to save time, then expand if needed\n",
    "param_grid_rf = {\n",
    "    'n_estimators': [100, 200], # Number of trees in the forest\n",
    "    'max_depth': [10, 20, None], # Maximum depth of the tree\n",
    "    'min_samples_leaf': [1, 2], # Minimum number of samples required to be at a leaf node\n",
    "    'criterion': ['gini', 'entropy'] # Function to measure the quality of a split\n",
    "}\n",
    "\n",
    "# Initialize GridSearchCV\n",
    "# cv=3 for faster execution, use higher (e.g., 5) for more robust evaluation\n",
    "grid_search_rf = GridSearchCV(estimator=RandomForestClassifier(random_state=42),\n",
    "                              param_grid=param_grid_rf,\n",
    "                              cv=3, # Number of folds for cross-validation\n",
    "                              n_jobs=-1, # Use all available CPU cores\n",
    "                              verbose=2, # Verbosity level\n",
    "                              scoring='f1_macro') # Metric to optimize\n",
    "\n",
    "# Fit GridSearchCV to the training data\n",
    "print(\"Running GridSearchCV for Random Forest... This might take a while.\")\n",
    "grid_search_rf.fit(X_train, y_train)\n",
    "\n",
    "print(\"\\n--- GridSearchCV Results for Random Forest ---\")\n",
    "print(f\"Best parameters found: {grid_search_rf.best_params_}\")\n",
    "print(f\"Best F1-macro score: {grid_search_rf.best_score_:.4f}\")\n",
    "\n",
    "# Evaluate the best Random Forest model on the test set\n",
    "best_rf_model = grid_search_rf.best_estimator_\n",
    "y_pred_best_rf = best_rf_model.predict(X_test)\n",
    "\n",
    "print(\"\\nEvaluating Best Random Forest Model (from GridSearchCV) on Test Set:\")\n",
    "print(f\"Accuracy: {accuracy_score(y_test, y_pred_best_rf):.4f}\")\n",
    "print(f\"Precision (macro): {precision_score(y_test, y_pred_best_rf, average='macro', zero_division=0):.4f}\")\n",
    "print(f\"Recall (macro): {recall_score(y_test, y_pred_best_rf, average='macro', zero_division=0):.4f}\")\n",
    "print(f\"F1-Score (macro): {f1_score(y_test, y_pred_best_rf, average='macro', zero_division=0):.4f}\")\n",
    "print(\"\\nClassification Report (Best Random Forest):\\n\", classification_report(y_test, y_pred_best_rf, target_names=target_names_list, zero_division=0))"
   ],
   "id": "16956eed9809ac2f",
   "outputs": [
    {
     "name": "stdout",
     "output_type": "stream",
     "text": [
      "\n",
      "--- Hyperparameter Tuning: GridSearchCV for Random Forest ---\n",
      "Running GridSearchCV for Random Forest... This might take a while.\n",
      "Fitting 3 folds for each of 24 candidates, totalling 72 fits\n",
      "\n",
      "--- GridSearchCV Results for Random Forest ---\n",
      "Best parameters found: {'criterion': 'entropy', 'max_depth': None, 'min_samples_leaf': 1, 'n_estimators': 100}\n",
      "Best F1-macro score: 0.2547\n",
      "\n",
      "Evaluating Best Random Forest Model (from GridSearchCV) on Test Set:\n",
      "Accuracy: 0.2450\n",
      "Precision (macro): 0.2434\n",
      "Recall (macro): 0.2444\n",
      "F1-Score (macro): 0.2437\n",
      "\n",
      "Classification Report (Best Random Forest):\n",
      "               precision    recall  f1-score   support\n",
      "\n",
      "         Low       0.22      0.21      0.21       147\n",
      "      Medium       0.24      0.26      0.25       144\n",
      "        High       0.22      0.21      0.21       151\n",
      "    Critical       0.29      0.30      0.29       158\n",
      "\n",
      "    accuracy                           0.24       600\n",
      "   macro avg       0.24      0.24      0.24       600\n",
      "weighted avg       0.24      0.24      0.24       600\n",
      "\n"
     ]
    }
   ],
   "execution_count": 9
  },
  {
   "metadata": {},
   "cell_type": "markdown",
   "source": "Workload Balancing Logic (Heuristic Approach)",
   "id": "c1f0170a33c974fe"
  },
  {
   "metadata": {
    "ExecuteTime": {
     "end_time": "2025-07-25T13:00:23.199986Z",
     "start_time": "2025-07-25T13:00:23.120590Z"
    }
   },
   "cell_type": "code",
   "source": [
    "print(\"\\n--- Workload Balancing Logic (Heuristic Approach) ---\")\n",
    "\n",
    "# --- SIMULATE USER DATA (You would replace this with actual user data) ---\n",
    "# In a real scenario, this would come from a database or API\n",
    "users = {\n",
    "    'user_A': {'workload': 5, 'skills': ['development', 'design']}, # workload in hours/tasks\n",
    "    'user_B': {'workload': 2, 'skills': ['development']},\n",
    "    'user_C': {'workload': 8, 'skills': ['design', 'testing']},\n",
    "    'user_D': {'workload': 3, 'skills': ['testing']}\n",
    "}\n",
    "\n",
    "# Function to get the current workload of a user\n",
    "def get_user_workload(user_id):\n",
    "    return users.get(user_id, {}).get('workload', float('inf')) # Return inf if user not found\n",
    "\n",
    "# Simple heuristic: find the user with the lowest current workload\n",
    "def assign_task_heuristically(predicted_priority, task_description, users_data):\n",
    "    # For simplicity, let's just find the user with the minimum current workload\n",
    "    # In a real system, you might also consider skills, availability, etc.\n",
    "    if not users_data:\n",
    "        return None, \"No users available\"\n",
    "\n",
    "    min_workload = float('inf')\n",
    "    assigned_user = None\n",
    "\n",
    "    for user_id, user_info in users_data.items():\n",
    "        if user_info['workload'] < min_workload:\n",
    "            min_workload = user_info['workload']\n",
    "            assigned_user = user_id\n",
    "\n",
    "    if assigned_user:\n",
    "        # Simulate assigning the task by increasing workload\n",
    "        users_data[assigned_user]['workload'] += 1 # Increment by 1 task or estimated effort\n",
    "    return assigned_user, f\"Assigned to {assigned_user} with predicted priority {predicted_priority}\"\n",
    "\n",
    "# --- DEMONSTRATION OF WORKLOAD BALANCING ---\n",
    "print(\"\\nDemonstrating Task Assignment based on Heuristic Workload Balancing:\")\n",
    "sample_tasks = df[['task_description', 'clean_description', 'priority']].head(5).copy()\n",
    "sample_tasks['predicted_priority'] = best_rf_model.predict(X_combined.loc[sample_tasks.index]) # Use best model to predict\n",
    "sample_tasks['predicted_priority_label'] = sample_tasks['predicted_priority'].map({v: k for k, v in priority_mapping.items()})\n",
    "\n",
    "\n",
    "print(\"\\nInitial User Workloads:\")\n",
    "for user, info in users.items():\n",
    "    print(f\"  {user}: {info['workload']} tasks\")\n",
    "\n",
    "print(\"\\nAssigning Sample Tasks:\")\n",
    "for index, row in sample_tasks.iterrows():\n",
    "    # Convert numerical prediction back to label for display\n",
    "    predicted_priority_label = row['predicted_priority_label']\n",
    "    assigned_user, message = assign_task_heuristically(predicted_priority_label, row['task_description'], users)\n",
    "    print(f\"Task: '{row['task_description'][:50]}...' (Predicted Priority: {predicted_priority_label}) -> {message}\")\n",
    "\n",
    "print(\"\\nUpdated User Workloads:\")\n",
    "for user, info in users.items():\n",
    "    print(f\"  {user}: {info['workload']} tasks\")\n",
    "\n",
    "print(\"\\n--- Workload Balancing: ML Approach (Conceptual) ---\")\n",
    "print(\"For an ML-based workload balancing, you would typically need a dataset that includes:\")\n",
    "print(\"1. Task features (like the ones you already have).\")\n",
    "print(\"2. User features (skills, availability, historical performance, current workload).\")\n",
    "print(\"3. Target variable: Which user completed which task, or task completion time for specific users.\")\n",
    "print(\"This would involve training a regression model to predict completion time for each user, or a classification model to recommend the best user based on predicted workload impact.\")\n",
    "print(\"This is a more complex task requiring a different kind of labeled dataset.\")"
   ],
   "id": "5ca394009c1ab6cc",
   "outputs": [
    {
     "name": "stdout",
     "output_type": "stream",
     "text": [
      "\n",
      "--- Workload Balancing Logic (Heuristic Approach) ---\n",
      "\n",
      "Demonstrating Task Assignment based on Heuristic Workload Balancing:\n",
      "\n",
      "Initial User Workloads:\n",
      "  user_A: 5 tasks\n",
      "  user_B: 2 tasks\n",
      "  user_C: 8 tasks\n",
      "  user_D: 3 tasks\n",
      "\n",
      "Assigning Sample Tasks:\n",
      "Task: 'Schedule interviews for Software Engineer....' (Predicted Priority: High) -> Assigned to user_B with predicted priority High\n",
      "Task: 'Plan team-building event for Q4....' (Predicted Priority: High) -> Assigned to user_B with predicted priority High\n",
      "Task: 'Optimize encryption for performance....' (Predicted Priority: Medium) -> Assigned to user_D with predicted priority Medium\n",
      "Task: 'Update knowledge base article on troubleshooting g...' (Predicted Priority: Medium) -> Assigned to user_B with predicted priority Medium\n",
      "Task: 'Update employee records for address change....' (Predicted Priority: Medium) -> Assigned to user_D with predicted priority Medium\n",
      "\n",
      "Updated User Workloads:\n",
      "  user_A: 5 tasks\n",
      "  user_B: 5 tasks\n",
      "  user_C: 8 tasks\n",
      "  user_D: 5 tasks\n",
      "\n",
      "--- Workload Balancing: ML Approach (Conceptual) ---\n",
      "For an ML-based workload balancing, you would typically need a dataset that includes:\n",
      "1. Task features (like the ones you already have).\n",
      "2. User features (skills, availability, historical performance, current workload).\n",
      "3. Target variable: Which user completed which task, or task completion time for specific users.\n",
      "This would involve training a regression model to predict completion time for each user, or a classification model to recommend the best user based on predicted workload impact.\n",
      "This is a more complex task requiring a different kind of labeled dataset.\n"
     ]
    }
   ],
   "execution_count": 10
  }
 ],
 "metadata": {
  "kernelspec": {
   "display_name": "pyenv",
   "language": "python",
   "name": "python3"
  },
  "language_info": {
   "codemirror_mode": {
    "name": "ipython",
    "version": 3
   },
   "file_extension": ".py",
   "mimetype": "text/x-python",
   "name": "python",
   "nbconvert_exporter": "python",
   "pygments_lexer": "ipython3",
   "version": "3.13.2"
  }
 },
 "nbformat": 4,
 "nbformat_minor": 5
}
